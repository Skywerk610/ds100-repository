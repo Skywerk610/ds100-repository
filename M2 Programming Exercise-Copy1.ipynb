{
 "cells": [
  {
   "cell_type": "code",
   "execution_count": 6,
   "id": "7a90d235",
   "metadata": {},
   "outputs": [
    {
     "name": "stderr",
     "output_type": "stream",
     "text": [
      "/var/folders/tk/vs3qv70n0k3gdzfjbm3fz_lw0000gn/T/ipykernel_4047/4100540277.py:10: SettingWithCopyWarning:\n",
      "\n",
      "\n",
      "A value is trying to be set on a copy of a slice from a DataFrame.\n",
      "Try using .loc[row_indexer,col_indexer] = value instead\n",
      "\n",
      "See the caveats in the documentation: https://pandas.pydata.org/pandas-docs/stable/user_guide/indexing.html#returning-a-view-versus-a-copy\n",
      "\n"
     ]
    },
    {
     "data": {
      "application/vnd.plotly.v1+json": {
       "config": {
        "plotlyServerURL": "https://plot.ly"
       },
       "data": [
        {
         "labels": [
          "AUS",
          "BRA",
          "CAN",
          "CHN",
          "DEN",
          "FIN",
          "FRA",
          "GBR",
          "GER",
          "HKG",
          "HUN",
          "ITA",
          "JPN",
          "NED",
          "ROC",
          "RSA",
          "SUI",
          "SWE",
          "TUN",
          "UKR",
          "USA"
         ],
         "type": "pie",
         "values": [
          20,
          2,
          6,
          6,
          1,
          1,
          1,
          8,
          2,
          2,
          2,
          6,
          3,
          2,
          5,
          2,
          2,
          1,
          1,
          2,
          30
         ]
        }
       ],
       "layout": {
        "template": {
         "data": {
          "bar": [
           {
            "error_x": {
             "color": "#2a3f5f"
            },
            "error_y": {
             "color": "#2a3f5f"
            },
            "marker": {
             "line": {
              "color": "#E5ECF6",
              "width": 0.5
             },
             "pattern": {
              "fillmode": "overlay",
              "size": 10,
              "solidity": 0.2
             }
            },
            "type": "bar"
           }
          ],
          "barpolar": [
           {
            "marker": {
             "line": {
              "color": "#E5ECF6",
              "width": 0.5
             },
             "pattern": {
              "fillmode": "overlay",
              "size": 10,
              "solidity": 0.2
             }
            },
            "type": "barpolar"
           }
          ],
          "carpet": [
           {
            "aaxis": {
             "endlinecolor": "#2a3f5f",
             "gridcolor": "white",
             "linecolor": "white",
             "minorgridcolor": "white",
             "startlinecolor": "#2a3f5f"
            },
            "baxis": {
             "endlinecolor": "#2a3f5f",
             "gridcolor": "white",
             "linecolor": "white",
             "minorgridcolor": "white",
             "startlinecolor": "#2a3f5f"
            },
            "type": "carpet"
           }
          ],
          "choropleth": [
           {
            "colorbar": {
             "outlinewidth": 0,
             "ticks": ""
            },
            "type": "choropleth"
           }
          ],
          "contour": [
           {
            "colorbar": {
             "outlinewidth": 0,
             "ticks": ""
            },
            "colorscale": [
             [
              0,
              "#0d0887"
             ],
             [
              0.1111111111111111,
              "#46039f"
             ],
             [
              0.2222222222222222,
              "#7201a8"
             ],
             [
              0.3333333333333333,
              "#9c179e"
             ],
             [
              0.4444444444444444,
              "#bd3786"
             ],
             [
              0.5555555555555556,
              "#d8576b"
             ],
             [
              0.6666666666666666,
              "#ed7953"
             ],
             [
              0.7777777777777778,
              "#fb9f3a"
             ],
             [
              0.8888888888888888,
              "#fdca26"
             ],
             [
              1,
              "#f0f921"
             ]
            ],
            "type": "contour"
           }
          ],
          "contourcarpet": [
           {
            "colorbar": {
             "outlinewidth": 0,
             "ticks": ""
            },
            "type": "contourcarpet"
           }
          ],
          "heatmap": [
           {
            "colorbar": {
             "outlinewidth": 0,
             "ticks": ""
            },
            "colorscale": [
             [
              0,
              "#0d0887"
             ],
             [
              0.1111111111111111,
              "#46039f"
             ],
             [
              0.2222222222222222,
              "#7201a8"
             ],
             [
              0.3333333333333333,
              "#9c179e"
             ],
             [
              0.4444444444444444,
              "#bd3786"
             ],
             [
              0.5555555555555556,
              "#d8576b"
             ],
             [
              0.6666666666666666,
              "#ed7953"
             ],
             [
              0.7777777777777778,
              "#fb9f3a"
             ],
             [
              0.8888888888888888,
              "#fdca26"
             ],
             [
              1,
              "#f0f921"
             ]
            ],
            "type": "heatmap"
           }
          ],
          "heatmapgl": [
           {
            "colorbar": {
             "outlinewidth": 0,
             "ticks": ""
            },
            "colorscale": [
             [
              0,
              "#0d0887"
             ],
             [
              0.1111111111111111,
              "#46039f"
             ],
             [
              0.2222222222222222,
              "#7201a8"
             ],
             [
              0.3333333333333333,
              "#9c179e"
             ],
             [
              0.4444444444444444,
              "#bd3786"
             ],
             [
              0.5555555555555556,
              "#d8576b"
             ],
             [
              0.6666666666666666,
              "#ed7953"
             ],
             [
              0.7777777777777778,
              "#fb9f3a"
             ],
             [
              0.8888888888888888,
              "#fdca26"
             ],
             [
              1,
              "#f0f921"
             ]
            ],
            "type": "heatmapgl"
           }
          ],
          "histogram": [
           {
            "marker": {
             "pattern": {
              "fillmode": "overlay",
              "size": 10,
              "solidity": 0.2
             }
            },
            "type": "histogram"
           }
          ],
          "histogram2d": [
           {
            "colorbar": {
             "outlinewidth": 0,
             "ticks": ""
            },
            "colorscale": [
             [
              0,
              "#0d0887"
             ],
             [
              0.1111111111111111,
              "#46039f"
             ],
             [
              0.2222222222222222,
              "#7201a8"
             ],
             [
              0.3333333333333333,
              "#9c179e"
             ],
             [
              0.4444444444444444,
              "#bd3786"
             ],
             [
              0.5555555555555556,
              "#d8576b"
             ],
             [
              0.6666666666666666,
              "#ed7953"
             ],
             [
              0.7777777777777778,
              "#fb9f3a"
             ],
             [
              0.8888888888888888,
              "#fdca26"
             ],
             [
              1,
              "#f0f921"
             ]
            ],
            "type": "histogram2d"
           }
          ],
          "histogram2dcontour": [
           {
            "colorbar": {
             "outlinewidth": 0,
             "ticks": ""
            },
            "colorscale": [
             [
              0,
              "#0d0887"
             ],
             [
              0.1111111111111111,
              "#46039f"
             ],
             [
              0.2222222222222222,
              "#7201a8"
             ],
             [
              0.3333333333333333,
              "#9c179e"
             ],
             [
              0.4444444444444444,
              "#bd3786"
             ],
             [
              0.5555555555555556,
              "#d8576b"
             ],
             [
              0.6666666666666666,
              "#ed7953"
             ],
             [
              0.7777777777777778,
              "#fb9f3a"
             ],
             [
              0.8888888888888888,
              "#fdca26"
             ],
             [
              1,
              "#f0f921"
             ]
            ],
            "type": "histogram2dcontour"
           }
          ],
          "mesh3d": [
           {
            "colorbar": {
             "outlinewidth": 0,
             "ticks": ""
            },
            "type": "mesh3d"
           }
          ],
          "parcoords": [
           {
            "line": {
             "colorbar": {
              "outlinewidth": 0,
              "ticks": ""
             }
            },
            "type": "parcoords"
           }
          ],
          "pie": [
           {
            "automargin": true,
            "type": "pie"
           }
          ],
          "scatter": [
           {
            "fillpattern": {
             "fillmode": "overlay",
             "size": 10,
             "solidity": 0.2
            },
            "type": "scatter"
           }
          ],
          "scatter3d": [
           {
            "line": {
             "colorbar": {
              "outlinewidth": 0,
              "ticks": ""
             }
            },
            "marker": {
             "colorbar": {
              "outlinewidth": 0,
              "ticks": ""
             }
            },
            "type": "scatter3d"
           }
          ],
          "scattercarpet": [
           {
            "marker": {
             "colorbar": {
              "outlinewidth": 0,
              "ticks": ""
             }
            },
            "type": "scattercarpet"
           }
          ],
          "scattergeo": [
           {
            "marker": {
             "colorbar": {
              "outlinewidth": 0,
              "ticks": ""
             }
            },
            "type": "scattergeo"
           }
          ],
          "scattergl": [
           {
            "marker": {
             "colorbar": {
              "outlinewidth": 0,
              "ticks": ""
             }
            },
            "type": "scattergl"
           }
          ],
          "scattermapbox": [
           {
            "marker": {
             "colorbar": {
              "outlinewidth": 0,
              "ticks": ""
             }
            },
            "type": "scattermapbox"
           }
          ],
          "scatterpolar": [
           {
            "marker": {
             "colorbar": {
              "outlinewidth": 0,
              "ticks": ""
             }
            },
            "type": "scatterpolar"
           }
          ],
          "scatterpolargl": [
           {
            "marker": {
             "colorbar": {
              "outlinewidth": 0,
              "ticks": ""
             }
            },
            "type": "scatterpolargl"
           }
          ],
          "scatterternary": [
           {
            "marker": {
             "colorbar": {
              "outlinewidth": 0,
              "ticks": ""
             }
            },
            "type": "scatterternary"
           }
          ],
          "surface": [
           {
            "colorbar": {
             "outlinewidth": 0,
             "ticks": ""
            },
            "colorscale": [
             [
              0,
              "#0d0887"
             ],
             [
              0.1111111111111111,
              "#46039f"
             ],
             [
              0.2222222222222222,
              "#7201a8"
             ],
             [
              0.3333333333333333,
              "#9c179e"
             ],
             [
              0.4444444444444444,
              "#bd3786"
             ],
             [
              0.5555555555555556,
              "#d8576b"
             ],
             [
              0.6666666666666666,
              "#ed7953"
             ],
             [
              0.7777777777777778,
              "#fb9f3a"
             ],
             [
              0.8888888888888888,
              "#fdca26"
             ],
             [
              1,
              "#f0f921"
             ]
            ],
            "type": "surface"
           }
          ],
          "table": [
           {
            "cells": {
             "fill": {
              "color": "#EBF0F8"
             },
             "line": {
              "color": "white"
             }
            },
            "header": {
             "fill": {
              "color": "#C8D4E3"
             },
             "line": {
              "color": "white"
             }
            },
            "type": "table"
           }
          ]
         },
         "layout": {
          "annotationdefaults": {
           "arrowcolor": "#2a3f5f",
           "arrowhead": 0,
           "arrowwidth": 1
          },
          "autotypenumbers": "strict",
          "coloraxis": {
           "colorbar": {
            "outlinewidth": 0,
            "ticks": ""
           }
          },
          "colorscale": {
           "diverging": [
            [
             0,
             "#8e0152"
            ],
            [
             0.1,
             "#c51b7d"
            ],
            [
             0.2,
             "#de77ae"
            ],
            [
             0.3,
             "#f1b6da"
            ],
            [
             0.4,
             "#fde0ef"
            ],
            [
             0.5,
             "#f7f7f7"
            ],
            [
             0.6,
             "#e6f5d0"
            ],
            [
             0.7,
             "#b8e186"
            ],
            [
             0.8,
             "#7fbc41"
            ],
            [
             0.9,
             "#4d9221"
            ],
            [
             1,
             "#276419"
            ]
           ],
           "sequential": [
            [
             0,
             "#0d0887"
            ],
            [
             0.1111111111111111,
             "#46039f"
            ],
            [
             0.2222222222222222,
             "#7201a8"
            ],
            [
             0.3333333333333333,
             "#9c179e"
            ],
            [
             0.4444444444444444,
             "#bd3786"
            ],
            [
             0.5555555555555556,
             "#d8576b"
            ],
            [
             0.6666666666666666,
             "#ed7953"
            ],
            [
             0.7777777777777778,
             "#fb9f3a"
            ],
            [
             0.8888888888888888,
             "#fdca26"
            ],
            [
             1,
             "#f0f921"
            ]
           ],
           "sequentialminus": [
            [
             0,
             "#0d0887"
            ],
            [
             0.1111111111111111,
             "#46039f"
            ],
            [
             0.2222222222222222,
             "#7201a8"
            ],
            [
             0.3333333333333333,
             "#9c179e"
            ],
            [
             0.4444444444444444,
             "#bd3786"
            ],
            [
             0.5555555555555556,
             "#d8576b"
            ],
            [
             0.6666666666666666,
             "#ed7953"
            ],
            [
             0.7777777777777778,
             "#fb9f3a"
            ],
            [
             0.8888888888888888,
             "#fdca26"
            ],
            [
             1,
             "#f0f921"
            ]
           ]
          },
          "colorway": [
           "#636efa",
           "#EF553B",
           "#00cc96",
           "#ab63fa",
           "#FFA15A",
           "#19d3f3",
           "#FF6692",
           "#B6E880",
           "#FF97FF",
           "#FECB52"
          ],
          "font": {
           "color": "#2a3f5f"
          },
          "geo": {
           "bgcolor": "white",
           "lakecolor": "white",
           "landcolor": "#E5ECF6",
           "showlakes": true,
           "showland": true,
           "subunitcolor": "white"
          },
          "hoverlabel": {
           "align": "left"
          },
          "hovermode": "closest",
          "mapbox": {
           "style": "light"
          },
          "paper_bgcolor": "white",
          "plot_bgcolor": "#E5ECF6",
          "polar": {
           "angularaxis": {
            "gridcolor": "white",
            "linecolor": "white",
            "ticks": ""
           },
           "bgcolor": "#E5ECF6",
           "radialaxis": {
            "gridcolor": "white",
            "linecolor": "white",
            "ticks": ""
           }
          },
          "scene": {
           "xaxis": {
            "backgroundcolor": "#E5ECF6",
            "gridcolor": "white",
            "gridwidth": 2,
            "linecolor": "white",
            "showbackground": true,
            "ticks": "",
            "zerolinecolor": "white"
           },
           "yaxis": {
            "backgroundcolor": "#E5ECF6",
            "gridcolor": "white",
            "gridwidth": 2,
            "linecolor": "white",
            "showbackground": true,
            "ticks": "",
            "zerolinecolor": "white"
           },
           "zaxis": {
            "backgroundcolor": "#E5ECF6",
            "gridcolor": "white",
            "gridwidth": 2,
            "linecolor": "white",
            "showbackground": true,
            "ticks": "",
            "zerolinecolor": "white"
           }
          },
          "shapedefaults": {
           "line": {
            "color": "#2a3f5f"
           }
          },
          "ternary": {
           "aaxis": {
            "gridcolor": "white",
            "linecolor": "white",
            "ticks": ""
           },
           "baxis": {
            "gridcolor": "white",
            "linecolor": "white",
            "ticks": ""
           },
           "bgcolor": "#E5ECF6",
           "caxis": {
            "gridcolor": "white",
            "linecolor": "white",
            "ticks": ""
           }
          },
          "title": {
           "x": 0.05
          },
          "xaxis": {
           "automargin": true,
           "gridcolor": "white",
           "linecolor": "white",
           "ticks": "",
           "title": {
            "standoff": 15
           },
           "zerolinecolor": "white",
           "zerolinewidth": 2
          },
          "yaxis": {
           "automargin": true,
           "gridcolor": "white",
           "linecolor": "white",
           "ticks": "",
           "title": {
            "standoff": 15
           },
           "zerolinecolor": "white",
           "zerolinewidth": 2
          }
         }
        },
        "title": {
         "text": "Total Medals per Country"
        }
       }
      },
      "text/html": [
       "<div>                            <div id=\"d56a63a1-0984-4f4c-a239-c2727771ebc4\" class=\"plotly-graph-div\" style=\"height:525px; width:100%;\"></div>            <script type=\"text/javascript\">                require([\"plotly\"], function(Plotly) {                    window.PLOTLYENV=window.PLOTLYENV || {};                                    if (document.getElementById(\"d56a63a1-0984-4f4c-a239-c2727771ebc4\")) {                    Plotly.newPlot(                        \"d56a63a1-0984-4f4c-a239-c2727771ebc4\",                        [{\"labels\":[\"AUS\",\"BRA\",\"CAN\",\"CHN\",\"DEN\",\"FIN\",\"FRA\",\"GBR\",\"GER\",\"HKG\",\"HUN\",\"ITA\",\"JPN\",\"NED\",\"ROC\",\"RSA\",\"SUI\",\"SWE\",\"TUN\",\"UKR\",\"USA\"],\"values\":[20,2,6,6,1,1,1,8,2,2,2,6,3,2,5,2,2,1,1,2,30],\"type\":\"pie\"}],                        {\"template\":{\"data\":{\"histogram2dcontour\":[{\"type\":\"histogram2dcontour\",\"colorbar\":{\"outlinewidth\":0,\"ticks\":\"\"},\"colorscale\":[[0.0,\"#0d0887\"],[0.1111111111111111,\"#46039f\"],[0.2222222222222222,\"#7201a8\"],[0.3333333333333333,\"#9c179e\"],[0.4444444444444444,\"#bd3786\"],[0.5555555555555556,\"#d8576b\"],[0.6666666666666666,\"#ed7953\"],[0.7777777777777778,\"#fb9f3a\"],[0.8888888888888888,\"#fdca26\"],[1.0,\"#f0f921\"]]}],\"choropleth\":[{\"type\":\"choropleth\",\"colorbar\":{\"outlinewidth\":0,\"ticks\":\"\"}}],\"histogram2d\":[{\"type\":\"histogram2d\",\"colorbar\":{\"outlinewidth\":0,\"ticks\":\"\"},\"colorscale\":[[0.0,\"#0d0887\"],[0.1111111111111111,\"#46039f\"],[0.2222222222222222,\"#7201a8\"],[0.3333333333333333,\"#9c179e\"],[0.4444444444444444,\"#bd3786\"],[0.5555555555555556,\"#d8576b\"],[0.6666666666666666,\"#ed7953\"],[0.7777777777777778,\"#fb9f3a\"],[0.8888888888888888,\"#fdca26\"],[1.0,\"#f0f921\"]]}],\"heatmap\":[{\"type\":\"heatmap\",\"colorbar\":{\"outlinewidth\":0,\"ticks\":\"\"},\"colorscale\":[[0.0,\"#0d0887\"],[0.1111111111111111,\"#46039f\"],[0.2222222222222222,\"#7201a8\"],[0.3333333333333333,\"#9c179e\"],[0.4444444444444444,\"#bd3786\"],[0.5555555555555556,\"#d8576b\"],[0.6666666666666666,\"#ed7953\"],[0.7777777777777778,\"#fb9f3a\"],[0.8888888888888888,\"#fdca26\"],[1.0,\"#f0f921\"]]}],\"heatmapgl\":[{\"type\":\"heatmapgl\",\"colorbar\":{\"outlinewidth\":0,\"ticks\":\"\"},\"colorscale\":[[0.0,\"#0d0887\"],[0.1111111111111111,\"#46039f\"],[0.2222222222222222,\"#7201a8\"],[0.3333333333333333,\"#9c179e\"],[0.4444444444444444,\"#bd3786\"],[0.5555555555555556,\"#d8576b\"],[0.6666666666666666,\"#ed7953\"],[0.7777777777777778,\"#fb9f3a\"],[0.8888888888888888,\"#fdca26\"],[1.0,\"#f0f921\"]]}],\"contourcarpet\":[{\"type\":\"contourcarpet\",\"colorbar\":{\"outlinewidth\":0,\"ticks\":\"\"}}],\"contour\":[{\"type\":\"contour\",\"colorbar\":{\"outlinewidth\":0,\"ticks\":\"\"},\"colorscale\":[[0.0,\"#0d0887\"],[0.1111111111111111,\"#46039f\"],[0.2222222222222222,\"#7201a8\"],[0.3333333333333333,\"#9c179e\"],[0.4444444444444444,\"#bd3786\"],[0.5555555555555556,\"#d8576b\"],[0.6666666666666666,\"#ed7953\"],[0.7777777777777778,\"#fb9f3a\"],[0.8888888888888888,\"#fdca26\"],[1.0,\"#f0f921\"]]}],\"surface\":[{\"type\":\"surface\",\"colorbar\":{\"outlinewidth\":0,\"ticks\":\"\"},\"colorscale\":[[0.0,\"#0d0887\"],[0.1111111111111111,\"#46039f\"],[0.2222222222222222,\"#7201a8\"],[0.3333333333333333,\"#9c179e\"],[0.4444444444444444,\"#bd3786\"],[0.5555555555555556,\"#d8576b\"],[0.6666666666666666,\"#ed7953\"],[0.7777777777777778,\"#fb9f3a\"],[0.8888888888888888,\"#fdca26\"],[1.0,\"#f0f921\"]]}],\"mesh3d\":[{\"type\":\"mesh3d\",\"colorbar\":{\"outlinewidth\":0,\"ticks\":\"\"}}],\"scatter\":[{\"fillpattern\":{\"fillmode\":\"overlay\",\"size\":10,\"solidity\":0.2},\"type\":\"scatter\"}],\"parcoords\":[{\"type\":\"parcoords\",\"line\":{\"colorbar\":{\"outlinewidth\":0,\"ticks\":\"\"}}}],\"scatterpolargl\":[{\"type\":\"scatterpolargl\",\"marker\":{\"colorbar\":{\"outlinewidth\":0,\"ticks\":\"\"}}}],\"bar\":[{\"error_x\":{\"color\":\"#2a3f5f\"},\"error_y\":{\"color\":\"#2a3f5f\"},\"marker\":{\"line\":{\"color\":\"#E5ECF6\",\"width\":0.5},\"pattern\":{\"fillmode\":\"overlay\",\"size\":10,\"solidity\":0.2}},\"type\":\"bar\"}],\"scattergeo\":[{\"type\":\"scattergeo\",\"marker\":{\"colorbar\":{\"outlinewidth\":0,\"ticks\":\"\"}}}],\"scatterpolar\":[{\"type\":\"scatterpolar\",\"marker\":{\"colorbar\":{\"outlinewidth\":0,\"ticks\":\"\"}}}],\"histogram\":[{\"marker\":{\"pattern\":{\"fillmode\":\"overlay\",\"size\":10,\"solidity\":0.2}},\"type\":\"histogram\"}],\"scattergl\":[{\"type\":\"scattergl\",\"marker\":{\"colorbar\":{\"outlinewidth\":0,\"ticks\":\"\"}}}],\"scatter3d\":[{\"type\":\"scatter3d\",\"line\":{\"colorbar\":{\"outlinewidth\":0,\"ticks\":\"\"}},\"marker\":{\"colorbar\":{\"outlinewidth\":0,\"ticks\":\"\"}}}],\"scattermapbox\":[{\"type\":\"scattermapbox\",\"marker\":{\"colorbar\":{\"outlinewidth\":0,\"ticks\":\"\"}}}],\"scatterternary\":[{\"type\":\"scatterternary\",\"marker\":{\"colorbar\":{\"outlinewidth\":0,\"ticks\":\"\"}}}],\"scattercarpet\":[{\"type\":\"scattercarpet\",\"marker\":{\"colorbar\":{\"outlinewidth\":0,\"ticks\":\"\"}}}],\"carpet\":[{\"aaxis\":{\"endlinecolor\":\"#2a3f5f\",\"gridcolor\":\"white\",\"linecolor\":\"white\",\"minorgridcolor\":\"white\",\"startlinecolor\":\"#2a3f5f\"},\"baxis\":{\"endlinecolor\":\"#2a3f5f\",\"gridcolor\":\"white\",\"linecolor\":\"white\",\"minorgridcolor\":\"white\",\"startlinecolor\":\"#2a3f5f\"},\"type\":\"carpet\"}],\"table\":[{\"cells\":{\"fill\":{\"color\":\"#EBF0F8\"},\"line\":{\"color\":\"white\"}},\"header\":{\"fill\":{\"color\":\"#C8D4E3\"},\"line\":{\"color\":\"white\"}},\"type\":\"table\"}],\"barpolar\":[{\"marker\":{\"line\":{\"color\":\"#E5ECF6\",\"width\":0.5},\"pattern\":{\"fillmode\":\"overlay\",\"size\":10,\"solidity\":0.2}},\"type\":\"barpolar\"}],\"pie\":[{\"automargin\":true,\"type\":\"pie\"}]},\"layout\":{\"autotypenumbers\":\"strict\",\"colorway\":[\"#636efa\",\"#EF553B\",\"#00cc96\",\"#ab63fa\",\"#FFA15A\",\"#19d3f3\",\"#FF6692\",\"#B6E880\",\"#FF97FF\",\"#FECB52\"],\"font\":{\"color\":\"#2a3f5f\"},\"hovermode\":\"closest\",\"hoverlabel\":{\"align\":\"left\"},\"paper_bgcolor\":\"white\",\"plot_bgcolor\":\"#E5ECF6\",\"polar\":{\"bgcolor\":\"#E5ECF6\",\"angularaxis\":{\"gridcolor\":\"white\",\"linecolor\":\"white\",\"ticks\":\"\"},\"radialaxis\":{\"gridcolor\":\"white\",\"linecolor\":\"white\",\"ticks\":\"\"}},\"ternary\":{\"bgcolor\":\"#E5ECF6\",\"aaxis\":{\"gridcolor\":\"white\",\"linecolor\":\"white\",\"ticks\":\"\"},\"baxis\":{\"gridcolor\":\"white\",\"linecolor\":\"white\",\"ticks\":\"\"},\"caxis\":{\"gridcolor\":\"white\",\"linecolor\":\"white\",\"ticks\":\"\"}},\"coloraxis\":{\"colorbar\":{\"outlinewidth\":0,\"ticks\":\"\"}},\"colorscale\":{\"sequential\":[[0.0,\"#0d0887\"],[0.1111111111111111,\"#46039f\"],[0.2222222222222222,\"#7201a8\"],[0.3333333333333333,\"#9c179e\"],[0.4444444444444444,\"#bd3786\"],[0.5555555555555556,\"#d8576b\"],[0.6666666666666666,\"#ed7953\"],[0.7777777777777778,\"#fb9f3a\"],[0.8888888888888888,\"#fdca26\"],[1.0,\"#f0f921\"]],\"sequentialminus\":[[0.0,\"#0d0887\"],[0.1111111111111111,\"#46039f\"],[0.2222222222222222,\"#7201a8\"],[0.3333333333333333,\"#9c179e\"],[0.4444444444444444,\"#bd3786\"],[0.5555555555555556,\"#d8576b\"],[0.6666666666666666,\"#ed7953\"],[0.7777777777777778,\"#fb9f3a\"],[0.8888888888888888,\"#fdca26\"],[1.0,\"#f0f921\"]],\"diverging\":[[0,\"#8e0152\"],[0.1,\"#c51b7d\"],[0.2,\"#de77ae\"],[0.3,\"#f1b6da\"],[0.4,\"#fde0ef\"],[0.5,\"#f7f7f7\"],[0.6,\"#e6f5d0\"],[0.7,\"#b8e186\"],[0.8,\"#7fbc41\"],[0.9,\"#4d9221\"],[1,\"#276419\"]]},\"xaxis\":{\"gridcolor\":\"white\",\"linecolor\":\"white\",\"ticks\":\"\",\"title\":{\"standoff\":15},\"zerolinecolor\":\"white\",\"automargin\":true,\"zerolinewidth\":2},\"yaxis\":{\"gridcolor\":\"white\",\"linecolor\":\"white\",\"ticks\":\"\",\"title\":{\"standoff\":15},\"zerolinecolor\":\"white\",\"automargin\":true,\"zerolinewidth\":2},\"scene\":{\"xaxis\":{\"backgroundcolor\":\"#E5ECF6\",\"gridcolor\":\"white\",\"linecolor\":\"white\",\"showbackground\":true,\"ticks\":\"\",\"zerolinecolor\":\"white\",\"gridwidth\":2},\"yaxis\":{\"backgroundcolor\":\"#E5ECF6\",\"gridcolor\":\"white\",\"linecolor\":\"white\",\"showbackground\":true,\"ticks\":\"\",\"zerolinecolor\":\"white\",\"gridwidth\":2},\"zaxis\":{\"backgroundcolor\":\"#E5ECF6\",\"gridcolor\":\"white\",\"linecolor\":\"white\",\"showbackground\":true,\"ticks\":\"\",\"zerolinecolor\":\"white\",\"gridwidth\":2}},\"shapedefaults\":{\"line\":{\"color\":\"#2a3f5f\"}},\"annotationdefaults\":{\"arrowcolor\":\"#2a3f5f\",\"arrowhead\":0,\"arrowwidth\":1},\"geo\":{\"bgcolor\":\"white\",\"landcolor\":\"#E5ECF6\",\"subunitcolor\":\"white\",\"showland\":true,\"showlakes\":true,\"lakecolor\":\"white\"},\"title\":{\"x\":0.05},\"mapbox\":{\"style\":\"light\"}}},\"title\":{\"text\":\"Total Medals per Country\"}},                        {\"responsive\": true}                    ).then(function(){\n",
       "                            \n",
       "var gd = document.getElementById('d56a63a1-0984-4f4c-a239-c2727771ebc4');\n",
       "var x = new MutationObserver(function (mutations, observer) {{\n",
       "        var display = window.getComputedStyle(gd).display;\n",
       "        if (!display || display === 'none') {{\n",
       "            console.log([gd, 'removed!']);\n",
       "            Plotly.purge(gd);\n",
       "            observer.disconnect();\n",
       "        }}\n",
       "}});\n",
       "\n",
       "// Listen for the removal of the full notebook cells\n",
       "var notebookContainer = gd.closest('#notebook-container');\n",
       "if (notebookContainer) {{\n",
       "    x.observe(notebookContainer, {childList: true});\n",
       "}}\n",
       "\n",
       "// Listen for the clearing of the current output cell\n",
       "var outputEl = gd.closest('.output');\n",
       "if (outputEl) {{\n",
       "    x.observe(outputEl, {childList: true});\n",
       "}}\n",
       "\n",
       "                        })                };                });            </script>        </div>"
      ]
     },
     "metadata": {},
     "output_type": "display_data"
    }
   ],
   "source": [
    "import numpy as np\n",
    "import pandas as pd\n",
    "import matplotlib.pyplot as plt\n",
    "import plotly.express as px\n",
    "import plotly.graph_objects as go\n",
    "data = pd.read_csv('https://raw.githubusercontent.com/Skywerk610/ds100-repository/main/tokyo_2020_swim.csv')\n",
    "pd.set_option('display.max_rows', None)\n",
    "pd.set_option('display.max_columns', None)\n",
    "final_data = data.loc[data['heat'].str.contains('final')]\n",
    "final_data['place'] = final_data['place'].astype(str)\n",
    "medal_data = final_data.loc[final_data['place'].str.contains('1|2|3')]\n",
    "medal_data[['team','place']]\n",
    "team_place_counts = medal_data.groupby(['team', 'place']).size().reset_index(name='count')\n",
    "team_mapping = {\n",
    "    'USA - United States of America': 'USA',\n",
    "    'AUS - Australia': 'AUS',\n",
    "    'CAN - Canada': 'CAN',\n",
    "    \"CHN - People's Republic of China\": 'CHN',\n",
    "    'GBR - Great Britain': 'GBR',\n",
    "    'ITA - Italy': 'ITA',\n",
    "    'ROC - ROC': 'ROC'\n",
    "}\n",
    "team_place_counts['team'] = team_place_counts['team'].replace(team_mapping)\n",
    "trimmed_ranking = team_place_counts.groupby(['team', 'place'])['count'].sum().reset_index()\n",
    "medal_mapping = {1.0: 'Gold', 2.0: 'Silver', 3.0: 'Bronze'}\n",
    "categorized_ranking = trimmed_ranking.pivot(index='team', columns='place', values='count').reset_index()\n",
    "categorized_ranking.columns = ['team', 'Gold', 'Silver', 'Bronze']\n",
    "categorized_ranking.fillna(0, inplace=True)\n",
    "categorized_ranking['Gold'] = categorized_ranking['Gold'].astype(int)\n",
    "categorized_ranking['Silver'] = categorized_ranking['Silver'].astype(int)\n",
    "categorized_ranking['Bronze'] = categorized_ranking['Bronze'].astype(int)\n",
    "categorized_ranking['Total_Medals'] = categorized_ranking['Gold'] + categorized_ranking['Silver'] + categorized_ranking['Bronze']\n",
    "fig1 = go.Figure(data=[go.Pie(labels=categorized_ranking['team'], values=categorized_ranking['Total_Medals'])])\n",
    "fig1.update_layout(title='Total Medals per Country')\n",
    "fig1.show()"
   ]
  },
  {
   "cell_type": "code",
   "execution_count": 2,
   "id": "b58737b8",
   "metadata": {},
   "outputs": [
    {
     "data": {
      "application/vnd.plotly.v1+json": {
       "config": {
        "plotlyServerURL": "https://plot.ly"
       },
       "data": [
        {
         "marker": {
          "color": "brown"
         },
         "name": "Bronze",
         "type": "bar",
         "x": [
          "AUS",
          "BRA",
          "CAN",
          "CHN",
          "DEN",
          "FIN",
          "FRA",
          "GBR",
          "GER",
          "HKG",
          "HUN",
          "ITA",
          "JPN",
          "NED",
          "ROC",
          "RSA",
          "SUI",
          "SWE",
          "TUN",
          "UKR",
          "USA"
         ],
         "y": [
          8,
          2,
          2,
          1,
          1,
          1,
          0,
          1,
          2,
          0,
          0,
          4,
          0,
          0,
          1,
          0,
          2,
          0,
          0,
          1,
          9
         ]
        },
        {
         "marker": {
          "color": "silver"
         },
         "name": "Silver",
         "type": "bar",
         "x": [
          "AUS",
          "BRA",
          "CAN",
          "CHN",
          "DEN",
          "FIN",
          "FRA",
          "GBR",
          "GER",
          "HKG",
          "HUN",
          "ITA",
          "JPN",
          "NED",
          "ROC",
          "RSA",
          "SUI",
          "SWE",
          "TUN",
          "UKR",
          "USA"
         ],
         "y": [
          3,
          0,
          3,
          2,
          0,
          0,
          1,
          3,
          0,
          2,
          1,
          2,
          1,
          2,
          2,
          1,
          0,
          1,
          0,
          1,
          10
         ]
        },
        {
         "marker": {
          "color": "gold"
         },
         "name": "Gold",
         "type": "bar",
         "x": [
          "AUS",
          "BRA",
          "CAN",
          "CHN",
          "DEN",
          "FIN",
          "FRA",
          "GBR",
          "GER",
          "HKG",
          "HUN",
          "ITA",
          "JPN",
          "NED",
          "ROC",
          "RSA",
          "SUI",
          "SWE",
          "TUN",
          "UKR",
          "USA"
         ],
         "y": [
          9,
          0,
          1,
          3,
          0,
          0,
          0,
          4,
          0,
          0,
          1,
          0,
          2,
          0,
          2,
          1,
          0,
          0,
          1,
          0,
          11
         ]
        }
       ],
       "layout": {
        "barmode": "stack",
        "template": {
         "data": {
          "bar": [
           {
            "error_x": {
             "color": "#2a3f5f"
            },
            "error_y": {
             "color": "#2a3f5f"
            },
            "marker": {
             "line": {
              "color": "#E5ECF6",
              "width": 0.5
             },
             "pattern": {
              "fillmode": "overlay",
              "size": 10,
              "solidity": 0.2
             }
            },
            "type": "bar"
           }
          ],
          "barpolar": [
           {
            "marker": {
             "line": {
              "color": "#E5ECF6",
              "width": 0.5
             },
             "pattern": {
              "fillmode": "overlay",
              "size": 10,
              "solidity": 0.2
             }
            },
            "type": "barpolar"
           }
          ],
          "carpet": [
           {
            "aaxis": {
             "endlinecolor": "#2a3f5f",
             "gridcolor": "white",
             "linecolor": "white",
             "minorgridcolor": "white",
             "startlinecolor": "#2a3f5f"
            },
            "baxis": {
             "endlinecolor": "#2a3f5f",
             "gridcolor": "white",
             "linecolor": "white",
             "minorgridcolor": "white",
             "startlinecolor": "#2a3f5f"
            },
            "type": "carpet"
           }
          ],
          "choropleth": [
           {
            "colorbar": {
             "outlinewidth": 0,
             "ticks": ""
            },
            "type": "choropleth"
           }
          ],
          "contour": [
           {
            "colorbar": {
             "outlinewidth": 0,
             "ticks": ""
            },
            "colorscale": [
             [
              0,
              "#0d0887"
             ],
             [
              0.1111111111111111,
              "#46039f"
             ],
             [
              0.2222222222222222,
              "#7201a8"
             ],
             [
              0.3333333333333333,
              "#9c179e"
             ],
             [
              0.4444444444444444,
              "#bd3786"
             ],
             [
              0.5555555555555556,
              "#d8576b"
             ],
             [
              0.6666666666666666,
              "#ed7953"
             ],
             [
              0.7777777777777778,
              "#fb9f3a"
             ],
             [
              0.8888888888888888,
              "#fdca26"
             ],
             [
              1,
              "#f0f921"
             ]
            ],
            "type": "contour"
           }
          ],
          "contourcarpet": [
           {
            "colorbar": {
             "outlinewidth": 0,
             "ticks": ""
            },
            "type": "contourcarpet"
           }
          ],
          "heatmap": [
           {
            "colorbar": {
             "outlinewidth": 0,
             "ticks": ""
            },
            "colorscale": [
             [
              0,
              "#0d0887"
             ],
             [
              0.1111111111111111,
              "#46039f"
             ],
             [
              0.2222222222222222,
              "#7201a8"
             ],
             [
              0.3333333333333333,
              "#9c179e"
             ],
             [
              0.4444444444444444,
              "#bd3786"
             ],
             [
              0.5555555555555556,
              "#d8576b"
             ],
             [
              0.6666666666666666,
              "#ed7953"
             ],
             [
              0.7777777777777778,
              "#fb9f3a"
             ],
             [
              0.8888888888888888,
              "#fdca26"
             ],
             [
              1,
              "#f0f921"
             ]
            ],
            "type": "heatmap"
           }
          ],
          "heatmapgl": [
           {
            "colorbar": {
             "outlinewidth": 0,
             "ticks": ""
            },
            "colorscale": [
             [
              0,
              "#0d0887"
             ],
             [
              0.1111111111111111,
              "#46039f"
             ],
             [
              0.2222222222222222,
              "#7201a8"
             ],
             [
              0.3333333333333333,
              "#9c179e"
             ],
             [
              0.4444444444444444,
              "#bd3786"
             ],
             [
              0.5555555555555556,
              "#d8576b"
             ],
             [
              0.6666666666666666,
              "#ed7953"
             ],
             [
              0.7777777777777778,
              "#fb9f3a"
             ],
             [
              0.8888888888888888,
              "#fdca26"
             ],
             [
              1,
              "#f0f921"
             ]
            ],
            "type": "heatmapgl"
           }
          ],
          "histogram": [
           {
            "marker": {
             "pattern": {
              "fillmode": "overlay",
              "size": 10,
              "solidity": 0.2
             }
            },
            "type": "histogram"
           }
          ],
          "histogram2d": [
           {
            "colorbar": {
             "outlinewidth": 0,
             "ticks": ""
            },
            "colorscale": [
             [
              0,
              "#0d0887"
             ],
             [
              0.1111111111111111,
              "#46039f"
             ],
             [
              0.2222222222222222,
              "#7201a8"
             ],
             [
              0.3333333333333333,
              "#9c179e"
             ],
             [
              0.4444444444444444,
              "#bd3786"
             ],
             [
              0.5555555555555556,
              "#d8576b"
             ],
             [
              0.6666666666666666,
              "#ed7953"
             ],
             [
              0.7777777777777778,
              "#fb9f3a"
             ],
             [
              0.8888888888888888,
              "#fdca26"
             ],
             [
              1,
              "#f0f921"
             ]
            ],
            "type": "histogram2d"
           }
          ],
          "histogram2dcontour": [
           {
            "colorbar": {
             "outlinewidth": 0,
             "ticks": ""
            },
            "colorscale": [
             [
              0,
              "#0d0887"
             ],
             [
              0.1111111111111111,
              "#46039f"
             ],
             [
              0.2222222222222222,
              "#7201a8"
             ],
             [
              0.3333333333333333,
              "#9c179e"
             ],
             [
              0.4444444444444444,
              "#bd3786"
             ],
             [
              0.5555555555555556,
              "#d8576b"
             ],
             [
              0.6666666666666666,
              "#ed7953"
             ],
             [
              0.7777777777777778,
              "#fb9f3a"
             ],
             [
              0.8888888888888888,
              "#fdca26"
             ],
             [
              1,
              "#f0f921"
             ]
            ],
            "type": "histogram2dcontour"
           }
          ],
          "mesh3d": [
           {
            "colorbar": {
             "outlinewidth": 0,
             "ticks": ""
            },
            "type": "mesh3d"
           }
          ],
          "parcoords": [
           {
            "line": {
             "colorbar": {
              "outlinewidth": 0,
              "ticks": ""
             }
            },
            "type": "parcoords"
           }
          ],
          "pie": [
           {
            "automargin": true,
            "type": "pie"
           }
          ],
          "scatter": [
           {
            "fillpattern": {
             "fillmode": "overlay",
             "size": 10,
             "solidity": 0.2
            },
            "type": "scatter"
           }
          ],
          "scatter3d": [
           {
            "line": {
             "colorbar": {
              "outlinewidth": 0,
              "ticks": ""
             }
            },
            "marker": {
             "colorbar": {
              "outlinewidth": 0,
              "ticks": ""
             }
            },
            "type": "scatter3d"
           }
          ],
          "scattercarpet": [
           {
            "marker": {
             "colorbar": {
              "outlinewidth": 0,
              "ticks": ""
             }
            },
            "type": "scattercarpet"
           }
          ],
          "scattergeo": [
           {
            "marker": {
             "colorbar": {
              "outlinewidth": 0,
              "ticks": ""
             }
            },
            "type": "scattergeo"
           }
          ],
          "scattergl": [
           {
            "marker": {
             "colorbar": {
              "outlinewidth": 0,
              "ticks": ""
             }
            },
            "type": "scattergl"
           }
          ],
          "scattermapbox": [
           {
            "marker": {
             "colorbar": {
              "outlinewidth": 0,
              "ticks": ""
             }
            },
            "type": "scattermapbox"
           }
          ],
          "scatterpolar": [
           {
            "marker": {
             "colorbar": {
              "outlinewidth": 0,
              "ticks": ""
             }
            },
            "type": "scatterpolar"
           }
          ],
          "scatterpolargl": [
           {
            "marker": {
             "colorbar": {
              "outlinewidth": 0,
              "ticks": ""
             }
            },
            "type": "scatterpolargl"
           }
          ],
          "scatterternary": [
           {
            "marker": {
             "colorbar": {
              "outlinewidth": 0,
              "ticks": ""
             }
            },
            "type": "scatterternary"
           }
          ],
          "surface": [
           {
            "colorbar": {
             "outlinewidth": 0,
             "ticks": ""
            },
            "colorscale": [
             [
              0,
              "#0d0887"
             ],
             [
              0.1111111111111111,
              "#46039f"
             ],
             [
              0.2222222222222222,
              "#7201a8"
             ],
             [
              0.3333333333333333,
              "#9c179e"
             ],
             [
              0.4444444444444444,
              "#bd3786"
             ],
             [
              0.5555555555555556,
              "#d8576b"
             ],
             [
              0.6666666666666666,
              "#ed7953"
             ],
             [
              0.7777777777777778,
              "#fb9f3a"
             ],
             [
              0.8888888888888888,
              "#fdca26"
             ],
             [
              1,
              "#f0f921"
             ]
            ],
            "type": "surface"
           }
          ],
          "table": [
           {
            "cells": {
             "fill": {
              "color": "#EBF0F8"
             },
             "line": {
              "color": "white"
             }
            },
            "header": {
             "fill": {
              "color": "#C8D4E3"
             },
             "line": {
              "color": "white"
             }
            },
            "type": "table"
           }
          ]
         },
         "layout": {
          "annotationdefaults": {
           "arrowcolor": "#2a3f5f",
           "arrowhead": 0,
           "arrowwidth": 1
          },
          "autotypenumbers": "strict",
          "coloraxis": {
           "colorbar": {
            "outlinewidth": 0,
            "ticks": ""
           }
          },
          "colorscale": {
           "diverging": [
            [
             0,
             "#8e0152"
            ],
            [
             0.1,
             "#c51b7d"
            ],
            [
             0.2,
             "#de77ae"
            ],
            [
             0.3,
             "#f1b6da"
            ],
            [
             0.4,
             "#fde0ef"
            ],
            [
             0.5,
             "#f7f7f7"
            ],
            [
             0.6,
             "#e6f5d0"
            ],
            [
             0.7,
             "#b8e186"
            ],
            [
             0.8,
             "#7fbc41"
            ],
            [
             0.9,
             "#4d9221"
            ],
            [
             1,
             "#276419"
            ]
           ],
           "sequential": [
            [
             0,
             "#0d0887"
            ],
            [
             0.1111111111111111,
             "#46039f"
            ],
            [
             0.2222222222222222,
             "#7201a8"
            ],
            [
             0.3333333333333333,
             "#9c179e"
            ],
            [
             0.4444444444444444,
             "#bd3786"
            ],
            [
             0.5555555555555556,
             "#d8576b"
            ],
            [
             0.6666666666666666,
             "#ed7953"
            ],
            [
             0.7777777777777778,
             "#fb9f3a"
            ],
            [
             0.8888888888888888,
             "#fdca26"
            ],
            [
             1,
             "#f0f921"
            ]
           ],
           "sequentialminus": [
            [
             0,
             "#0d0887"
            ],
            [
             0.1111111111111111,
             "#46039f"
            ],
            [
             0.2222222222222222,
             "#7201a8"
            ],
            [
             0.3333333333333333,
             "#9c179e"
            ],
            [
             0.4444444444444444,
             "#bd3786"
            ],
            [
             0.5555555555555556,
             "#d8576b"
            ],
            [
             0.6666666666666666,
             "#ed7953"
            ],
            [
             0.7777777777777778,
             "#fb9f3a"
            ],
            [
             0.8888888888888888,
             "#fdca26"
            ],
            [
             1,
             "#f0f921"
            ]
           ]
          },
          "colorway": [
           "#636efa",
           "#EF553B",
           "#00cc96",
           "#ab63fa",
           "#FFA15A",
           "#19d3f3",
           "#FF6692",
           "#B6E880",
           "#FF97FF",
           "#FECB52"
          ],
          "font": {
           "color": "#2a3f5f"
          },
          "geo": {
           "bgcolor": "white",
           "lakecolor": "white",
           "landcolor": "#E5ECF6",
           "showlakes": true,
           "showland": true,
           "subunitcolor": "white"
          },
          "hoverlabel": {
           "align": "left"
          },
          "hovermode": "closest",
          "mapbox": {
           "style": "light"
          },
          "paper_bgcolor": "white",
          "plot_bgcolor": "#E5ECF6",
          "polar": {
           "angularaxis": {
            "gridcolor": "white",
            "linecolor": "white",
            "ticks": ""
           },
           "bgcolor": "#E5ECF6",
           "radialaxis": {
            "gridcolor": "white",
            "linecolor": "white",
            "ticks": ""
           }
          },
          "scene": {
           "xaxis": {
            "backgroundcolor": "#E5ECF6",
            "gridcolor": "white",
            "gridwidth": 2,
            "linecolor": "white",
            "showbackground": true,
            "ticks": "",
            "zerolinecolor": "white"
           },
           "yaxis": {
            "backgroundcolor": "#E5ECF6",
            "gridcolor": "white",
            "gridwidth": 2,
            "linecolor": "white",
            "showbackground": true,
            "ticks": "",
            "zerolinecolor": "white"
           },
           "zaxis": {
            "backgroundcolor": "#E5ECF6",
            "gridcolor": "white",
            "gridwidth": 2,
            "linecolor": "white",
            "showbackground": true,
            "ticks": "",
            "zerolinecolor": "white"
           }
          },
          "shapedefaults": {
           "line": {
            "color": "#2a3f5f"
           }
          },
          "ternary": {
           "aaxis": {
            "gridcolor": "white",
            "linecolor": "white",
            "ticks": ""
           },
           "baxis": {
            "gridcolor": "white",
            "linecolor": "white",
            "ticks": ""
           },
           "bgcolor": "#E5ECF6",
           "caxis": {
            "gridcolor": "white",
            "linecolor": "white",
            "ticks": ""
           }
          },
          "title": {
           "x": 0.05
          },
          "xaxis": {
           "automargin": true,
           "gridcolor": "white",
           "linecolor": "white",
           "ticks": "",
           "title": {
            "standoff": 15
           },
           "zerolinecolor": "white",
           "zerolinewidth": 2
          },
          "yaxis": {
           "automargin": true,
           "gridcolor": "white",
           "linecolor": "white",
           "ticks": "",
           "title": {
            "standoff": 15
           },
           "zerolinecolor": "white",
           "zerolinewidth": 2
          }
         }
        },
        "title": {
         "text": "Medals by Country"
        },
        "xaxis": {
         "title": {
          "text": "Team"
         }
        },
        "yaxis": {
         "title": {
          "text": "Count"
         }
        }
       }
      },
      "text/html": [
       "<div>                            <div id=\"b677adac-94b1-451f-9503-76583940e09e\" class=\"plotly-graph-div\" style=\"height:525px; width:100%;\"></div>            <script type=\"text/javascript\">                require([\"plotly\"], function(Plotly) {                    window.PLOTLYENV=window.PLOTLYENV || {};                                    if (document.getElementById(\"b677adac-94b1-451f-9503-76583940e09e\")) {                    Plotly.newPlot(                        \"b677adac-94b1-451f-9503-76583940e09e\",                        [{\"marker\":{\"color\":\"brown\"},\"name\":\"Bronze\",\"x\":[\"AUS\",\"BRA\",\"CAN\",\"CHN\",\"DEN\",\"FIN\",\"FRA\",\"GBR\",\"GER\",\"HKG\",\"HUN\",\"ITA\",\"JPN\",\"NED\",\"ROC\",\"RSA\",\"SUI\",\"SWE\",\"TUN\",\"UKR\",\"USA\"],\"y\":[8,2,2,1,1,1,0,1,2,0,0,4,0,0,1,0,2,0,0,1,9],\"type\":\"bar\"},{\"marker\":{\"color\":\"silver\"},\"name\":\"Silver\",\"x\":[\"AUS\",\"BRA\",\"CAN\",\"CHN\",\"DEN\",\"FIN\",\"FRA\",\"GBR\",\"GER\",\"HKG\",\"HUN\",\"ITA\",\"JPN\",\"NED\",\"ROC\",\"RSA\",\"SUI\",\"SWE\",\"TUN\",\"UKR\",\"USA\"],\"y\":[3,0,3,2,0,0,1,3,0,2,1,2,1,2,2,1,0,1,0,1,10],\"type\":\"bar\"},{\"marker\":{\"color\":\"gold\"},\"name\":\"Gold\",\"x\":[\"AUS\",\"BRA\",\"CAN\",\"CHN\",\"DEN\",\"FIN\",\"FRA\",\"GBR\",\"GER\",\"HKG\",\"HUN\",\"ITA\",\"JPN\",\"NED\",\"ROC\",\"RSA\",\"SUI\",\"SWE\",\"TUN\",\"UKR\",\"USA\"],\"y\":[9,0,1,3,0,0,0,4,0,0,1,0,2,0,2,1,0,0,1,0,11],\"type\":\"bar\"}],                        {\"template\":{\"data\":{\"histogram2dcontour\":[{\"type\":\"histogram2dcontour\",\"colorbar\":{\"outlinewidth\":0,\"ticks\":\"\"},\"colorscale\":[[0.0,\"#0d0887\"],[0.1111111111111111,\"#46039f\"],[0.2222222222222222,\"#7201a8\"],[0.3333333333333333,\"#9c179e\"],[0.4444444444444444,\"#bd3786\"],[0.5555555555555556,\"#d8576b\"],[0.6666666666666666,\"#ed7953\"],[0.7777777777777778,\"#fb9f3a\"],[0.8888888888888888,\"#fdca26\"],[1.0,\"#f0f921\"]]}],\"choropleth\":[{\"type\":\"choropleth\",\"colorbar\":{\"outlinewidth\":0,\"ticks\":\"\"}}],\"histogram2d\":[{\"type\":\"histogram2d\",\"colorbar\":{\"outlinewidth\":0,\"ticks\":\"\"},\"colorscale\":[[0.0,\"#0d0887\"],[0.1111111111111111,\"#46039f\"],[0.2222222222222222,\"#7201a8\"],[0.3333333333333333,\"#9c179e\"],[0.4444444444444444,\"#bd3786\"],[0.5555555555555556,\"#d8576b\"],[0.6666666666666666,\"#ed7953\"],[0.7777777777777778,\"#fb9f3a\"],[0.8888888888888888,\"#fdca26\"],[1.0,\"#f0f921\"]]}],\"heatmap\":[{\"type\":\"heatmap\",\"colorbar\":{\"outlinewidth\":0,\"ticks\":\"\"},\"colorscale\":[[0.0,\"#0d0887\"],[0.1111111111111111,\"#46039f\"],[0.2222222222222222,\"#7201a8\"],[0.3333333333333333,\"#9c179e\"],[0.4444444444444444,\"#bd3786\"],[0.5555555555555556,\"#d8576b\"],[0.6666666666666666,\"#ed7953\"],[0.7777777777777778,\"#fb9f3a\"],[0.8888888888888888,\"#fdca26\"],[1.0,\"#f0f921\"]]}],\"heatmapgl\":[{\"type\":\"heatmapgl\",\"colorbar\":{\"outlinewidth\":0,\"ticks\":\"\"},\"colorscale\":[[0.0,\"#0d0887\"],[0.1111111111111111,\"#46039f\"],[0.2222222222222222,\"#7201a8\"],[0.3333333333333333,\"#9c179e\"],[0.4444444444444444,\"#bd3786\"],[0.5555555555555556,\"#d8576b\"],[0.6666666666666666,\"#ed7953\"],[0.7777777777777778,\"#fb9f3a\"],[0.8888888888888888,\"#fdca26\"],[1.0,\"#f0f921\"]]}],\"contourcarpet\":[{\"type\":\"contourcarpet\",\"colorbar\":{\"outlinewidth\":0,\"ticks\":\"\"}}],\"contour\":[{\"type\":\"contour\",\"colorbar\":{\"outlinewidth\":0,\"ticks\":\"\"},\"colorscale\":[[0.0,\"#0d0887\"],[0.1111111111111111,\"#46039f\"],[0.2222222222222222,\"#7201a8\"],[0.3333333333333333,\"#9c179e\"],[0.4444444444444444,\"#bd3786\"],[0.5555555555555556,\"#d8576b\"],[0.6666666666666666,\"#ed7953\"],[0.7777777777777778,\"#fb9f3a\"],[0.8888888888888888,\"#fdca26\"],[1.0,\"#f0f921\"]]}],\"surface\":[{\"type\":\"surface\",\"colorbar\":{\"outlinewidth\":0,\"ticks\":\"\"},\"colorscale\":[[0.0,\"#0d0887\"],[0.1111111111111111,\"#46039f\"],[0.2222222222222222,\"#7201a8\"],[0.3333333333333333,\"#9c179e\"],[0.4444444444444444,\"#bd3786\"],[0.5555555555555556,\"#d8576b\"],[0.6666666666666666,\"#ed7953\"],[0.7777777777777778,\"#fb9f3a\"],[0.8888888888888888,\"#fdca26\"],[1.0,\"#f0f921\"]]}],\"mesh3d\":[{\"type\":\"mesh3d\",\"colorbar\":{\"outlinewidth\":0,\"ticks\":\"\"}}],\"scatter\":[{\"fillpattern\":{\"fillmode\":\"overlay\",\"size\":10,\"solidity\":0.2},\"type\":\"scatter\"}],\"parcoords\":[{\"type\":\"parcoords\",\"line\":{\"colorbar\":{\"outlinewidth\":0,\"ticks\":\"\"}}}],\"scatterpolargl\":[{\"type\":\"scatterpolargl\",\"marker\":{\"colorbar\":{\"outlinewidth\":0,\"ticks\":\"\"}}}],\"bar\":[{\"error_x\":{\"color\":\"#2a3f5f\"},\"error_y\":{\"color\":\"#2a3f5f\"},\"marker\":{\"line\":{\"color\":\"#E5ECF6\",\"width\":0.5},\"pattern\":{\"fillmode\":\"overlay\",\"size\":10,\"solidity\":0.2}},\"type\":\"bar\"}],\"scattergeo\":[{\"type\":\"scattergeo\",\"marker\":{\"colorbar\":{\"outlinewidth\":0,\"ticks\":\"\"}}}],\"scatterpolar\":[{\"type\":\"scatterpolar\",\"marker\":{\"colorbar\":{\"outlinewidth\":0,\"ticks\":\"\"}}}],\"histogram\":[{\"marker\":{\"pattern\":{\"fillmode\":\"overlay\",\"size\":10,\"solidity\":0.2}},\"type\":\"histogram\"}],\"scattergl\":[{\"type\":\"scattergl\",\"marker\":{\"colorbar\":{\"outlinewidth\":0,\"ticks\":\"\"}}}],\"scatter3d\":[{\"type\":\"scatter3d\",\"line\":{\"colorbar\":{\"outlinewidth\":0,\"ticks\":\"\"}},\"marker\":{\"colorbar\":{\"outlinewidth\":0,\"ticks\":\"\"}}}],\"scattermapbox\":[{\"type\":\"scattermapbox\",\"marker\":{\"colorbar\":{\"outlinewidth\":0,\"ticks\":\"\"}}}],\"scatterternary\":[{\"type\":\"scatterternary\",\"marker\":{\"colorbar\":{\"outlinewidth\":0,\"ticks\":\"\"}}}],\"scattercarpet\":[{\"type\":\"scattercarpet\",\"marker\":{\"colorbar\":{\"outlinewidth\":0,\"ticks\":\"\"}}}],\"carpet\":[{\"aaxis\":{\"endlinecolor\":\"#2a3f5f\",\"gridcolor\":\"white\",\"linecolor\":\"white\",\"minorgridcolor\":\"white\",\"startlinecolor\":\"#2a3f5f\"},\"baxis\":{\"endlinecolor\":\"#2a3f5f\",\"gridcolor\":\"white\",\"linecolor\":\"white\",\"minorgridcolor\":\"white\",\"startlinecolor\":\"#2a3f5f\"},\"type\":\"carpet\"}],\"table\":[{\"cells\":{\"fill\":{\"color\":\"#EBF0F8\"},\"line\":{\"color\":\"white\"}},\"header\":{\"fill\":{\"color\":\"#C8D4E3\"},\"line\":{\"color\":\"white\"}},\"type\":\"table\"}],\"barpolar\":[{\"marker\":{\"line\":{\"color\":\"#E5ECF6\",\"width\":0.5},\"pattern\":{\"fillmode\":\"overlay\",\"size\":10,\"solidity\":0.2}},\"type\":\"barpolar\"}],\"pie\":[{\"automargin\":true,\"type\":\"pie\"}]},\"layout\":{\"autotypenumbers\":\"strict\",\"colorway\":[\"#636efa\",\"#EF553B\",\"#00cc96\",\"#ab63fa\",\"#FFA15A\",\"#19d3f3\",\"#FF6692\",\"#B6E880\",\"#FF97FF\",\"#FECB52\"],\"font\":{\"color\":\"#2a3f5f\"},\"hovermode\":\"closest\",\"hoverlabel\":{\"align\":\"left\"},\"paper_bgcolor\":\"white\",\"plot_bgcolor\":\"#E5ECF6\",\"polar\":{\"bgcolor\":\"#E5ECF6\",\"angularaxis\":{\"gridcolor\":\"white\",\"linecolor\":\"white\",\"ticks\":\"\"},\"radialaxis\":{\"gridcolor\":\"white\",\"linecolor\":\"white\",\"ticks\":\"\"}},\"ternary\":{\"bgcolor\":\"#E5ECF6\",\"aaxis\":{\"gridcolor\":\"white\",\"linecolor\":\"white\",\"ticks\":\"\"},\"baxis\":{\"gridcolor\":\"white\",\"linecolor\":\"white\",\"ticks\":\"\"},\"caxis\":{\"gridcolor\":\"white\",\"linecolor\":\"white\",\"ticks\":\"\"}},\"coloraxis\":{\"colorbar\":{\"outlinewidth\":0,\"ticks\":\"\"}},\"colorscale\":{\"sequential\":[[0.0,\"#0d0887\"],[0.1111111111111111,\"#46039f\"],[0.2222222222222222,\"#7201a8\"],[0.3333333333333333,\"#9c179e\"],[0.4444444444444444,\"#bd3786\"],[0.5555555555555556,\"#d8576b\"],[0.6666666666666666,\"#ed7953\"],[0.7777777777777778,\"#fb9f3a\"],[0.8888888888888888,\"#fdca26\"],[1.0,\"#f0f921\"]],\"sequentialminus\":[[0.0,\"#0d0887\"],[0.1111111111111111,\"#46039f\"],[0.2222222222222222,\"#7201a8\"],[0.3333333333333333,\"#9c179e\"],[0.4444444444444444,\"#bd3786\"],[0.5555555555555556,\"#d8576b\"],[0.6666666666666666,\"#ed7953\"],[0.7777777777777778,\"#fb9f3a\"],[0.8888888888888888,\"#fdca26\"],[1.0,\"#f0f921\"]],\"diverging\":[[0,\"#8e0152\"],[0.1,\"#c51b7d\"],[0.2,\"#de77ae\"],[0.3,\"#f1b6da\"],[0.4,\"#fde0ef\"],[0.5,\"#f7f7f7\"],[0.6,\"#e6f5d0\"],[0.7,\"#b8e186\"],[0.8,\"#7fbc41\"],[0.9,\"#4d9221\"],[1,\"#276419\"]]},\"xaxis\":{\"gridcolor\":\"white\",\"linecolor\":\"white\",\"ticks\":\"\",\"title\":{\"standoff\":15},\"zerolinecolor\":\"white\",\"automargin\":true,\"zerolinewidth\":2},\"yaxis\":{\"gridcolor\":\"white\",\"linecolor\":\"white\",\"ticks\":\"\",\"title\":{\"standoff\":15},\"zerolinecolor\":\"white\",\"automargin\":true,\"zerolinewidth\":2},\"scene\":{\"xaxis\":{\"backgroundcolor\":\"#E5ECF6\",\"gridcolor\":\"white\",\"linecolor\":\"white\",\"showbackground\":true,\"ticks\":\"\",\"zerolinecolor\":\"white\",\"gridwidth\":2},\"yaxis\":{\"backgroundcolor\":\"#E5ECF6\",\"gridcolor\":\"white\",\"linecolor\":\"white\",\"showbackground\":true,\"ticks\":\"\",\"zerolinecolor\":\"white\",\"gridwidth\":2},\"zaxis\":{\"backgroundcolor\":\"#E5ECF6\",\"gridcolor\":\"white\",\"linecolor\":\"white\",\"showbackground\":true,\"ticks\":\"\",\"zerolinecolor\":\"white\",\"gridwidth\":2}},\"shapedefaults\":{\"line\":{\"color\":\"#2a3f5f\"}},\"annotationdefaults\":{\"arrowcolor\":\"#2a3f5f\",\"arrowhead\":0,\"arrowwidth\":1},\"geo\":{\"bgcolor\":\"white\",\"landcolor\":\"#E5ECF6\",\"subunitcolor\":\"white\",\"showland\":true,\"showlakes\":true,\"lakecolor\":\"white\"},\"title\":{\"x\":0.05},\"mapbox\":{\"style\":\"light\"}}},\"title\":{\"text\":\"Medals by Country\"},\"xaxis\":{\"title\":{\"text\":\"Team\"}},\"yaxis\":{\"title\":{\"text\":\"Count\"}},\"barmode\":\"stack\"},                        {\"responsive\": true}                    ).then(function(){\n",
       "                            \n",
       "var gd = document.getElementById('b677adac-94b1-451f-9503-76583940e09e');\n",
       "var x = new MutationObserver(function (mutations, observer) {{\n",
       "        var display = window.getComputedStyle(gd).display;\n",
       "        if (!display || display === 'none') {{\n",
       "            console.log([gd, 'removed!']);\n",
       "            Plotly.purge(gd);\n",
       "            observer.disconnect();\n",
       "        }}\n",
       "}});\n",
       "\n",
       "// Listen for the removal of the full notebook cells\n",
       "var notebookContainer = gd.closest('#notebook-container');\n",
       "if (notebookContainer) {{\n",
       "    x.observe(notebookContainer, {childList: true});\n",
       "}}\n",
       "\n",
       "// Listen for the clearing of the current output cell\n",
       "var outputEl = gd.closest('.output');\n",
       "if (outputEl) {{\n",
       "    x.observe(outputEl, {childList: true});\n",
       "}}\n",
       "\n",
       "                        })                };                });            </script>        </div>"
      ]
     },
     "metadata": {},
     "output_type": "display_data"
    }
   ],
   "source": [
    "fig2 = go.Figure()\n",
    "colors = {'Gold': 'gold', 'Silver': 'silver', 'Bronze': 'brown'}\n",
    "for medal in ['Bronze', 'Silver', 'Gold']:\n",
    "    fig2.add_trace(go.Bar(name=medal, x=categorized_ranking['team'], y=categorized_ranking[medal], marker_color=colors[medal]))\n",
    "fig2.update_layout(title='Medals by Country',\n",
    "                  xaxis_title='Team',\n",
    "                  yaxis_title='Count',\n",
    "                  barmode='stack')\n",
    "fig2.show()"
   ]
  },
  {
   "cell_type": "code",
   "execution_count": 3,
   "id": "1e542991",
   "metadata": {},
   "outputs": [
    {
     "data": {
      "image/png": "[encoded data removed]",
      "text/plain": [
       "<Figure size 1000x600 with 1 Axes>"
      ]
     },
     "metadata": {},
     "output_type": "display_data"
    }
   ],
   "source": [
    "data2 = pd.read_csv('USAmedal_solo_data_copy_dataset.csv')\n",
    "data = data2.dropna(subset=['name'])\n",
    "ledecky = data2.loc[data['name'].str.contains('LEDECKY Kathleen')]\n",
    "ledecky_onefive = ledecky.loc[data['event'].str.contains('women 1500m freestyle')]\n",
    "split_columns = [f'split_{i}' for i in range(50, 1550, 50)]\n",
    "distance_column = 'split_1500'\n",
    "plt.figure(figsize=(10, 6))\n",
    "for split_col in split_columns:\n",
    "    split_times = ledecky_onefive[split_col]\n",
    "    distances = int(split_col.split('_')[1])\n",
    "    plt.scatter(distances, split_times, marker='o', s=50, alpha=0.7, label=f'{split_times.tolist()} s')\n",
    "ave_split = ledecky_onefive['ave_split'].iloc[0]\n",
    "plt.axhline(y=ave_split, color='r', linestyle='--', label=f'Ave Split: {ave_split:.2f} s')\n",
    "plt.xlabel('Distance (m)')\n",
    "plt.ylabel('Split Time (s)')\n",
    "plt.title('Split Times vs. Distance for 1500m Freestyle')\n",
    "plt.grid(True)\n",
    "plt.xticks(np.arange(0, 1600, 100))\n",
    "plt.yticks(np.arange(28, 33, 0.5))\n",
    "plt.legend(title='Split Time', loc='upper left', bbox_to_anchor=(1.03, 1))\n",
    "plt.show()"
   ]
  },
  {
   "cell_type": "code",
   "execution_count": 7,
   "id": "914bec49",
   "metadata": {},
   "outputs": [
    {
     "name": "stderr",
     "output_type": "stream",
     "text": [
      "/var/folders/tk/vs3qv70n0k3gdzfjbm3fz_lw0000gn/T/ipykernel_4047/363254076.py:4: SettingWithCopyWarning:\n",
      "\n",
      "\n",
      "A value is trying to be set on a copy of a slice from a DataFrame.\n",
      "Try using .loc[row_indexer,col_indexer] = value instead\n",
      "\n",
      "See the caveats in the documentation: https://pandas.pydata.org/pandas-docs/stable/user_guide/indexing.html#returning-a-view-versus-a-copy\n",
      "\n"
     ]
    },
    {
     "data": {
      "application/vnd.plotly.v1+json": {
       "config": {
        "plotlyServerURL": "https://plot.ly"
       },
       "data": [
        {
         "mode": "lines+markers",
         "name": "RYLOV Evgeny",
         "type": "scatter",
         "visible": true,
         "x": [
          0,
          50,
          100,
          150,
          200
         ],
         "y": [
          0,
          26.81,
          55.18,
          83.93,
          113.27000000000001
         ]
        },
        {
         "mode": "lines+markers",
         "name": "MURPHY Ryan",
         "type": "scatter",
         "visible": true,
         "x": [
          0,
          50,
          100,
          150,
          200
         ],
         "y": [
          0,
          27.11,
          55.629999999999995,
          84.64999999999999,
          114.14999999999999
         ]
        },
        {
         "mode": "lines+markers",
         "name": "GREENBANK Luke",
         "type": "scatter",
         "visible": true,
         "x": [
          0,
          50,
          100,
          150,
          200
         ],
         "y": [
          0,
          27.02,
          55.72,
          85.08,
          114.72
         ]
        },
        {
         "mode": "lines+markers",
         "name": "MEFFORD Bryce",
         "type": "scatter",
         "visible": true,
         "x": [
          0,
          50,
          100,
          150,
          200
         ],
         "y": [
          0,
          27.19,
          56.11,
          85.32,
          115.49
         ]
        },
        {
         "mode": "lines+markers",
         "name": "TELEGDY Adam",
         "type": "scatter",
         "visible": true,
         "x": [
          0,
          50,
          100,
          150,
          200
         ],
         "y": [
          0,
          27.57,
          56.96,
          86.71000000000001,
          116.15
         ]
        },
        {
         "mode": "lines+markers",
         "name": "KAWECKI Radoslaw",
         "type": "scatter",
         "visible": true,
         "x": [
          0,
          50,
          100,
          150,
          200
         ],
         "y": [
          0,
          27.89,
          57.54,
          86.77,
          116.39
         ]
        },
        {
         "mode": "lines+markers",
         "name": "IRIE Ryosuke",
         "type": "scatter",
         "visible": true,
         "x": [
          0,
          50,
          100,
          150,
          200
         ],
         "y": [
          0,
          27.48,
          57.120000000000005,
          87.30000000000001,
          117.32000000000001
         ]
        },
        {
         "mode": "lines+markers",
         "name": "GARCIA SAIZ Nicolas",
         "type": "scatter",
         "visible": true,
         "x": [
          0,
          50,
          100,
          150,
          200
         ],
         "y": [
          0,
          27.66,
          57.06,
          87.55,
          119.06
         ]
        },
        {
         "mode": "lines+markers",
         "name": "MILAK Kristof",
         "type": "scatter",
         "visible": false,
         "x": [
          0,
          50,
          100,
          150,
          200
         ],
         "y": [
          0,
          24.48,
          53.480000000000004,
          82.15,
          111.25
         ]
        },
        {
         "mode": "lines+markers",
         "name": "HONDA Tomoru",
         "type": "scatter",
         "visible": false,
         "x": [
          0,
          50,
          100,
          150,
          200
         ],
         "y": [
          0,
          25.52,
          54.43,
          83.9,
          113.73
         ]
        },
        {
         "mode": "lines+markers",
         "name": "BURDISSO Federico",
         "type": "scatter",
         "visible": false,
         "x": [
          0,
          50,
          100,
          150,
          200
         ],
         "y": [
          0,
          25,
          53.42,
          83.1,
          114.44999999999999
         ]
        },
        {
         "mode": "lines+markers",
         "name": "KENDERESI Tamas",
         "type": "scatter",
         "visible": false,
         "x": [
          0,
          50,
          100,
          150,
          200
         ],
         "y": [
          0,
          25.57,
          55.129999999999995,
          84.71,
          114.52
         ]
        },
        {
         "mode": "lines+markers",
         "name": "le CLOS Chad",
         "type": "scatter",
         "visible": false,
         "x": [
          0,
          50,
          100,
          150,
          200
         ],
         "y": [
          0,
          24.66,
          53.32,
          83.61,
          114.93
         ]
        },
        {
         "mode": "lines+markers",
         "name": "de DEUS Leonardo",
         "type": "scatter",
         "visible": false,
         "x": [
          0,
          50,
          100,
          150,
          200
         ],
         "y": [
          0,
          25.73,
          55.05,
          84.97,
          115.19
         ]
        },
        {
         "mode": "lines+markers",
         "name": "BENTZ Gunnar",
         "type": "scatter",
         "visible": false,
         "x": [
          0,
          50,
          100,
          150,
          200
         ],
         "y": [
          0,
          25.54,
          54.46,
          84.66,
          115.46
         ]
        },
        {
         "mode": "lines+markers",
         "name": "CHMIELEWSKI Krzysztof",
         "type": "scatter",
         "visible": false,
         "x": [
          0,
          50,
          100,
          150,
          200
         ],
         "y": [
          0,
          25.96,
          55.24,
          85.47,
          115.88
         ]
        },
        {
         "mode": "lines+markers",
         "name": "STUBBLETY-COOK Izaac",
         "type": "scatter",
         "visible": false,
         "x": [
          0,
          50,
          100,
          150,
          200
         ],
         "y": [
          0,
          29.35,
          61.72,
          94.17,
          126.38
         ]
        },
        {
         "mode": "lines+markers",
         "name": "KAMMINGA Arno",
         "type": "scatter",
         "visible": false,
         "x": [
          0,
          50,
          100,
          150,
          200
         ],
         "y": [
          0,
          28.14,
          60.09,
          92.98,
          127.01
         ]
        },
        {
         "mode": "lines+markers",
         "name": "MATTSSON Matti",
         "type": "scatter",
         "visible": false,
         "x": [
          0,
          50,
          100,
          150,
          200
         ],
         "y": [
          0,
          28.96,
          60.85,
          93.35,
          127.13
         ]
        },
        {
         "mode": "lines+markers",
         "name": "CHUPKOV Anton",
         "type": "scatter",
         "visible": false,
         "x": [
          0,
          50,
          100,
          150,
          200
         ],
         "y": [
          0,
          29.66,
          62.379999999999995,
          94.25999999999999,
          127.23999999999998
         ]
        },
        {
         "mode": "lines+markers",
         "name": "FINK Nic",
         "type": "scatter",
         "visible": false,
         "x": [
          0,
          50,
          100,
          150,
          200
         ],
         "y": [
          0,
          28.98,
          61.84,
          94.5,
          127.93
         ]
        },
        {
         "mode": "lines+markers",
         "name": "WILBY James",
         "type": "scatter",
         "visible": false,
         "x": [
          0,
          50,
          100,
          150,
          200
         ],
         "y": [
          0,
          28.62,
          61.34,
          94.49000000000001,
          128.19
         ]
        },
        {
         "mode": "lines+markers",
         "name": "MURA Ryuya",
         "type": "scatter",
         "visible": false,
         "x": [
          0,
          50,
          100,
          150,
          200
         ],
         "y": [
          0,
          29.34,
          62.11,
          95.47999999999999,
          128.42
         ]
        },
        {
         "mode": "lines+markers",
         "name": "PERSSON Erik",
         "type": "scatter",
         "visible": false,
         "x": [
          0,
          50,
          100,
          150,
          200
         ],
         "y": [
          0,
          29.5,
          61.9,
          95.24000000000001,
          128.88
         ]
        },
        {
         "mode": "lines+markers",
         "name": "DEAN Tom",
         "type": "scatter",
         "visible": false,
         "x": [
          0,
          50,
          100,
          150,
          200
         ],
         "y": [
          0,
          24.21,
          50.46,
          77.38,
          104.22
         ]
        },
        {
         "mode": "lines+markers",
         "name": "SCOTT Duncan",
         "type": "scatter",
         "visible": false,
         "x": [
          0,
          50,
          100,
          150,
          200
         ],
         "y": [
          0,
          24.81,
          51.379999999999995,
          77.8,
          104.25999999999999
         ]
        },
        {
         "mode": "lines+markers",
         "name": "SCHEFFER Fernando",
         "type": "scatter",
         "visible": false,
         "x": [
          0,
          50,
          100,
          150,
          200
         ],
         "y": [
          0,
          24.24,
          50.25,
          77.28,
          104.66
         ]
        },
        {
         "mode": "lines+markers",
         "name": "POPOVICI David",
         "type": "scatter",
         "visible": false,
         "x": [
          0,
          50,
          100,
          150,
          200
         ],
         "y": [
          0,
          24.23,
          50.730000000000004,
          77.97,
          104.68
         ]
        },
        {
         "mode": "lines+markers",
         "name": "MALYUTIN Martin",
         "type": "scatter",
         "visible": false,
         "x": [
          0,
          50,
          100,
          150,
          200
         ],
         "y": [
          0,
          25.03,
          51.650000000000006,
          78.43,
          105.01
         ]
        },
        {
         "mode": "lines+markers",
         "name": "SMITH Kieran",
         "type": "scatter",
         "visible": false,
         "x": [
          0,
          50,
          100,
          150,
          200
         ],
         "y": [
          0,
          24.58,
          50.94,
          77.81,
          105.12
         ]
        },
        {
         "mode": "lines+markers",
         "name": "HWANG Sunwoo",
         "type": "scatter",
         "visible": false,
         "x": [
          0,
          50,
          100,
          150,
          200
         ],
         "y": [
          0,
          23.95,
          49.78,
          76.56,
          105.26
         ]
        },
        {
         "mode": "lines+markers",
         "name": "RAPSYS Danas",
         "type": "scatter",
         "visible": false,
         "x": [
          0,
          50,
          100,
          150,
          200
         ],
         "y": [
          0,
          24.96,
          51.96,
          78.83,
          105.78
         ]
        },
        {
         "mode": "lines+markers",
         "name": "WANG Shun",
         "type": "scatter",
         "visible": false,
         "x": [
          0,
          50,
          100,
          150,
          200
         ],
         "y": [
          0,
          24.78,
          53.78,
          87.63,
          115
         ]
        },
        {
         "mode": "lines+markers",
         "name": "SCOTT Duncan",
         "type": "scatter",
         "visible": false,
         "x": [
          0,
          50,
          100,
          150,
          200
         ],
         "y": [
          0,
          25.06,
          54.519999999999996,
          87.82,
          115.28
         ]
        },
        {
         "mode": "lines+markers",
         "name": "DESPLANCHES Jeremy",
         "type": "scatter",
         "visible": false,
         "x": [
          0,
          50,
          100,
          150,
          200
         ],
         "y": [
          0,
          24.91,
          54.25,
          87.72,
          116.17
         ]
        },
        {
         "mode": "lines+markers",
         "name": "SETO Daiya",
         "type": "scatter",
         "visible": false,
         "x": [
          0,
          50,
          100,
          150,
          200
         ],
         "y": [
          0,
          25.14,
          54.69,
          87.64,
          116.22
         ]
        },
        {
         "mode": "lines+markers",
         "name": "ANDREW Michael",
         "type": "scatter",
         "visible": false,
         "x": [
          0,
          50,
          100,
          150,
          200
         ],
         "y": [
          0,
          24.21,
          54.510000000000005,
          86.62,
          117.31
         ]
        },
        {
         "mode": "lines+markers",
         "name": "HAGINO Kosuke",
         "type": "scatter",
         "visible": false,
         "x": [
          0,
          50,
          100,
          150,
          200
         ],
         "y": [
          0,
          25.43,
          54.05,
          88.36,
          117.49
         ]
        },
        {
         "mode": "lines+markers",
         "name": "CSEH Laszlo",
         "type": "scatter",
         "visible": false,
         "x": [
          0,
          50,
          100,
          150,
          200
         ],
         "y": [
          0,
          24.7,
          53.849999999999994,
          89.07,
          117.67999999999999
         ]
        },
        {
         "mode": "lines+markers",
         "name": "CLAREBURT Lewis",
         "type": "scatter",
         "visible": false,
         "x": [
          0,
          50,
          100,
          150,
          200
         ],
         "y": [
          0,
          25.25,
          54.760000000000005,
          89.2,
          117.7
         ]
        },
        {
         "mode": "lines+markers",
         "name": "McKEOWN Kaylee",
         "type": "scatter",
         "visible": false,
         "x": [
          0,
          50,
          100,
          150,
          200
         ],
         "y": [
          0,
          29.39,
          61.54,
          93.6,
          124.67999999999999
         ]
        },
        {
         "mode": "lines+markers",
         "name": "MASSE Kylie",
         "type": "scatter",
         "visible": false,
         "x": [
          0,
          50,
          100,
          150,
          200
         ],
         "y": [
          0,
          29.3,
          60.74,
          92.91,
          125.41999999999999
         ]
        },
        {
         "mode": "lines+markers",
         "name": "SEEBOHM Emily",
         "type": "scatter",
         "visible": false,
         "x": [
          0,
          50,
          100,
          150,
          200
         ],
         "y": [
          0,
          29.92,
          62.14,
          94.72,
          126.17
         ]
        },
        {
         "mode": "lines+markers",
         "name": "WHITE Rhyan Elizabeth",
         "type": "scatter",
         "visible": false,
         "x": [
          0,
          50,
          100,
          150,
          200
         ],
         "y": [
          0,
          29.59,
          61.61,
          94.08,
          126.39
         ]
        },
        {
         "mode": "lines+markers",
         "name": "BACON Phoebe",
         "type": "scatter",
         "visible": false,
         "x": [
          0,
          50,
          100,
          150,
          200
         ],
         "y": [
          0,
          29.77,
          61.55,
          93.99,
          126.39999999999999
         ]
        },
        {
         "mode": "lines+markers",
         "name": "RUCK Taylor",
         "type": "scatter",
         "visible": false,
         "x": [
          0,
          50,
          100,
          150,
          200
         ],
         "y": [
          0,
          29.62,
          61.900000000000006,
          94.81,
          128.24
         ]
        },
        {
         "mode": "lines+markers",
         "name": "PENG Xuwei",
         "type": "scatter",
         "visible": false,
         "x": [
          0,
          50,
          100,
          150,
          200
         ],
         "y": [
          0,
          29.95,
          62.129999999999995,
          95.44,
          128.26
         ]
        },
        {
         "mode": "lines+markers",
         "name": "LIU Yaxin",
         "type": "scatter",
         "visible": false,
         "x": [
          0,
          50,
          100,
          150,
          200
         ],
         "y": [
          0,
          30.46,
          62.68,
          95.77000000000001,
          128.48000000000002
         ]
        },
        {
         "mode": "lines+markers",
         "name": "ZHANG Yufei",
         "type": "scatter",
         "visible": false,
         "x": [
          0,
          50,
          100,
          150,
          200
         ],
         "y": [
          0,
          26.92,
          58.290000000000006,
          91.03,
          123.86
         ]
        },
        {
         "mode": "lines+markers",
         "name": "SMITH Regan",
         "type": "scatter",
         "visible": false,
         "x": [
          0,
          50,
          100,
          150,
          200
         ],
         "y": [
          0,
          28.12,
          60.39,
          93.2,
          125.30000000000001
         ]
        },
        {
         "mode": "lines+markers",
         "name": "FLICKINGER Hali",
         "type": "scatter",
         "visible": false,
         "x": [
          0,
          50,
          100,
          150,
          200
         ],
         "y": [
          0,
          28.43,
          59.86,
          92.37,
          125.65
         ]
        },
        {
         "mode": "lines+markers",
         "name": "KAPAS Boglarka",
         "type": "scatter",
         "visible": false,
         "x": [
          0,
          50,
          100,
          150,
          200
         ],
         "y": [
          0,
          28.68,
          60.99,
          93.30000000000001,
          126.53
         ]
        },
        {
         "mode": "lines+markers",
         "name": "CHIMROVA Svetlana",
         "type": "scatter",
         "visible": false,
         "x": [
          0,
          50,
          100,
          150,
          200
         ],
         "y": [
          0,
          28.59,
          61.239999999999995,
          94.44,
          127.69999999999999
         ]
        },
        {
         "mode": "lines+markers",
         "name": "YU Liyan",
         "type": "scatter",
         "visible": false,
         "x": [
          0,
          50,
          100,
          150,
          200
         ],
         "y": [
          0,
          28.48,
          60.95,
          93.86,
          127.85
         ]
        },
        {
         "mode": "lines+markers",
         "name": "THOMAS Alys Margaret",
         "type": "scatter",
         "visible": false,
         "x": [
          0,
          50,
          100,
          150,
          200
         ],
         "y": [
          0,
          29.02,
          61.09,
          94.01,
          127.9
         ]
        },
        {
         "mode": "lines+markers",
         "name": "THROSSELL Brianna",
         "type": "scatter",
         "visible": false,
         "x": [
          0,
          50,
          100,
          150,
          200
         ],
         "y": [
          0,
          28.92,
          61.620000000000005,
          95.11000000000001,
          129.48000000000002
         ]
        },
        {
         "mode": "lines+markers",
         "name": "SCHOENMAKER Tatjana",
         "type": "scatter",
         "visible": false,
         "x": [
          0,
          50,
          100,
          150,
          200
         ],
         "y": [
          0,
          31.64,
          67.06,
          102.48,
          138.95
         ]
        },
        {
         "mode": "lines+markers",
         "name": "KING Lilly",
         "type": "scatter",
         "visible": false,
         "x": [
          0,
          50,
          100,
          150,
          200
         ],
         "y": [
          0,
          31.27,
          66.47,
          102.57,
          139.92
         ]
        },
        {
         "mode": "lines+markers",
         "name": "LAZOR Annie",
         "type": "scatter",
         "visible": false,
         "x": [
          0,
          50,
          100,
          150,
          200
         ],
         "y": [
          0,
          32.73,
          68.61,
          104.72999999999999,
          140.83999999999997
         ]
        },
        {
         "mode": "lines+markers",
         "name": "CHIKUNOVA Evgeniia",
         "type": "scatter",
         "visible": false,
         "x": [
          0,
          50,
          100,
          150,
          200
         ],
         "y": [
          0,
          32.37,
          68.33,
          104.72999999999999,
          140.88
         ]
        },
        {
         "mode": "lines+markers",
         "name": "CORBETT Kaylene",
         "type": "scatter",
         "visible": false,
         "x": [
          0,
          50,
          100,
          150,
          200
         ],
         "y": [
          0,
          32.84,
          69.15,
          105.59,
          142.06
         ]
        },
        {
         "mode": "lines+markers",
         "name": "RENSHAW Molly",
         "type": "scatter",
         "visible": false,
         "x": [
          0,
          50,
          100,
          150,
          200
         ],
         "y": [
          0,
          32.6,
          68.35,
          105.32,
          142.64999999999998
         ]
        },
        {
         "mode": "lines+markers",
         "name": "WOOD Abbie",
         "type": "scatter",
         "visible": false,
         "x": [
          0,
          50,
          100,
          150,
          200
         ],
         "y": [
          0,
          32.7,
          69.05000000000001,
          105.98000000000002,
          143.72000000000003
         ]
        },
        {
         "mode": "lines+markers",
         "name": "LECLUYSE Fanny",
         "type": "scatter",
         "visible": false,
         "x": [
          0,
          50,
          100,
          150,
          200
         ],
         "y": [
          0,
          32.49,
          68.95,
          106.2,
          144.57
         ]
        },
        {
         "mode": "lines+markers",
         "name": "TITMUS Ariarne",
         "type": "scatter",
         "visible": false,
         "x": [
          0,
          50,
          100,
          150,
          200
         ],
         "y": [
          0,
          27.04,
          55.849999999999994,
          84.69999999999999,
          113.49999999999999
         ]
        },
        {
         "mode": "lines+markers",
         "name": "HAUGHEY Siobhan Bernadette",
         "type": "scatter",
         "visible": false,
         "x": [
          0,
          50,
          100,
          150,
          200
         ],
         "y": [
          0,
          26.77,
          55.099999999999994,
          84.17999999999999,
          113.91999999999999
         ]
        },
        {
         "mode": "lines+markers",
         "name": "OLEKSIAK Penny",
         "type": "scatter",
         "visible": false,
         "x": [
          0,
          50,
          100,
          150,
          200
         ],
         "y": [
          0,
          26.4,
          55.36,
          84.95,
          114.7
         ]
        },
        {
         "mode": "lines+markers",
         "name": "YANG Junxuan",
         "type": "scatter",
         "visible": false,
         "x": [
          0,
          50,
          100,
          150,
          200
         ],
         "y": [
          0,
          26.69,
          55.28,
          84.65,
          115.01
         ]
        },
        {
         "mode": "lines+markers",
         "name": "LEDECKY Kathleen",
         "type": "scatter",
         "visible": false,
         "x": [
          0,
          50,
          100,
          150,
          200
         ],
         "y": [
          0,
          27.15,
          56.15,
          85.55,
          115.21
         ]
        },
        {
         "mode": "lines+markers",
         "name": "SEEMANOVA Barbora",
         "type": "scatter",
         "visible": false,
         "x": [
          0,
          50,
          100,
          150,
          200
         ],
         "y": [
          0,
          27.07,
          56.269999999999996,
          85.91,
          115.44999999999999
         ]
        },
        {
         "mode": "lines+markers",
         "name": "PELLEGRINI Federica",
         "type": "scatter",
         "visible": false,
         "x": [
          0,
          50,
          100,
          150,
          200
         ],
         "y": [
          0,
          27.29,
          56.64,
          86.46000000000001,
          115.91000000000001
         ]
        },
        {
         "mode": "lines+markers",
         "name": "WILSON Madison",
         "type": "scatter",
         "visible": false,
         "x": [
          0,
          50,
          100,
          150,
          200
         ],
         "y": [
          0,
          26.98,
          56.42,
          86.16,
          116.39
         ]
        },
        {
         "mode": "lines+markers",
         "name": "OHASHI Yui",
         "type": "scatter",
         "visible": false,
         "x": [
          0,
          50,
          100,
          150,
          200
         ],
         "y": [
          0,
          27.99,
          60.489999999999995,
          97.77,
          128.51999999999998
         ]
        },
        {
         "mode": "lines+markers",
         "name": "WALSH Alex",
         "type": "scatter",
         "visible": false,
         "x": [
          0,
          50,
          100,
          150,
          200
         ],
         "y": [
          0,
          27.98,
          60.66,
          97.69999999999999,
          128.64999999999998
         ]
        },
        {
         "mode": "lines+markers",
         "name": "DOUGLASS Kate",
         "type": "scatter",
         "visible": false,
         "x": [
          0,
          50,
          100,
          150,
          200
         ],
         "y": [
          0,
          27.43,
          61.36,
          98.22999999999999,
          129.04
         ]
        },
        {
         "mode": "lines+markers",
         "name": "WOOD Abbie",
         "type": "scatter",
         "visible": false,
         "x": [
          0,
          50,
          100,
          150,
          200
         ],
         "y": [
          0,
          27.72,
          61.04,
          97.91,
          129.15
         ]
        },
        {
         "mode": "lines+markers",
         "name": "YU Yiting",
         "type": "scatter",
         "visible": false,
         "x": [
          0,
          50,
          100,
          150,
          200
         ],
         "y": [
          0,
          27.22,
          60.42,
          98.36,
          129.57
         ]
        },
        {
         "mode": "lines+markers",
         "name": "PICKREM Sydney",
         "type": "scatter",
         "visible": false,
         "x": [
          0,
          50,
          100,
          150,
          200
         ],
         "y": [
          0,
          28.25,
          61.71,
          99.22,
          130.05
         ]
        },
        {
         "mode": "lines+markers",
         "name": "HOSSZU Katinka",
         "type": "scatter",
         "visible": false,
         "x": [
          0,
          50,
          100,
          150,
          200
         ],
         "y": [
          0,
          28.5,
          62,
          101.27000000000001,
          132.38
         ]
        },
        {
         "mode": "lines+markers",
         "name": "WILSON Alicia",
         "type": "scatter",
         "visible": false,
         "x": [
          0,
          50,
          100,
          150,
          200
         ],
         "y": [
          0,
          27.99,
          61.2,
          100.43,
          132.86
         ]
        }
       ],
       "layout": {
        "legend": {
         "title": {
          "text": "Athlete"
         }
        },
        "showlegend": true,
        "template": {
         "data": {
          "bar": [
           {
            "error_x": {
             "color": "#2a3f5f"
            },
            "error_y": {
             "color": "#2a3f5f"
            },
            "marker": {
             "line": {
              "color": "#E5ECF6",
              "width": 0.5
             },
             "pattern": {
              "fillmode": "overlay",
              "size": 10,
              "solidity": 0.2
             }
            },
            "type": "bar"
           }
          ],
          "barpolar": [
           {
            "marker": {
             "line": {
              "color": "#E5ECF6",
              "width": 0.5
             },
             "pattern": {
              "fillmode": "overlay",
              "size": 10,
              "solidity": 0.2
             }
            },
            "type": "barpolar"
           }
          ],
          "carpet": [
           {
            "aaxis": {
             "endlinecolor": "#2a3f5f",
             "gridcolor": "white",
             "linecolor": "white",
             "minorgridcolor": "white",
             "startlinecolor": "#2a3f5f"
            },
            "baxis": {
             "endlinecolor": "#2a3f5f",
             "gridcolor": "white",
             "linecolor": "white",
             "minorgridcolor": "white",
             "startlinecolor": "#2a3f5f"
            },
            "type": "carpet"
           }
          ],
          "choropleth": [
           {
            "colorbar": {
             "outlinewidth": 0,
             "ticks": ""
            },
            "type": "choropleth"
           }
          ],
          "contour": [
           {
            "colorbar": {
             "outlinewidth": 0,
             "ticks": ""
            },
            "colorscale": [
             [
              0,
              "#0d0887"
             ],
             [
              0.1111111111111111,
              "#46039f"
             ],
             [
              0.2222222222222222,
              "#7201a8"
             ],
             [
              0.3333333333333333,
              "#9c179e"
             ],
             [
              0.4444444444444444,
              "#bd3786"
             ],
             [
              0.5555555555555556,
              "#d8576b"
             ],
             [
              0.6666666666666666,
              "#ed7953"
             ],
             [
              0.7777777777777778,
              "#fb9f3a"
             ],
             [
              0.8888888888888888,
              "#fdca26"
             ],
             [
              1,
              "#f0f921"
             ]
            ],
            "type": "contour"
           }
          ],
          "contourcarpet": [
           {
            "colorbar": {
             "outlinewidth": 0,
             "ticks": ""
            },
            "type": "contourcarpet"
           }
          ],
          "heatmap": [
           {
            "colorbar": {
             "outlinewidth": 0,
             "ticks": ""
            },
            "colorscale": [
             [
              0,
              "#0d0887"
             ],
             [
              0.1111111111111111,
              "#46039f"
             ],
             [
              0.2222222222222222,
              "#7201a8"
             ],
             [
              0.3333333333333333,
              "#9c179e"
             ],
             [
              0.4444444444444444,
              "#bd3786"
             ],
             [
              0.5555555555555556,
              "#d8576b"
             ],
             [
              0.6666666666666666,
              "#ed7953"
             ],
             [
              0.7777777777777778,
              "#fb9f3a"
             ],
             [
              0.8888888888888888,
              "#fdca26"
             ],
             [
              1,
              "#f0f921"
             ]
            ],
            "type": "heatmap"
           }
          ],
          "heatmapgl": [
           {
            "colorbar": {
             "outlinewidth": 0,
             "ticks": ""
            },
            "colorscale": [
             [
              0,
              "#0d0887"
             ],
             [
              0.1111111111111111,
              "#46039f"
             ],
             [
              0.2222222222222222,
              "#7201a8"
             ],
             [
              0.3333333333333333,
              "#9c179e"
             ],
             [
              0.4444444444444444,
              "#bd3786"
             ],
             [
              0.5555555555555556,
              "#d8576b"
             ],
             [
              0.6666666666666666,
              "#ed7953"
             ],
             [
              0.7777777777777778,
              "#fb9f3a"
             ],
             [
              0.8888888888888888,
              "#fdca26"
             ],
             [
              1,
              "#f0f921"
             ]
            ],
            "type": "heatmapgl"
           }
          ],
          "histogram": [
           {
            "marker": {
             "pattern": {
              "fillmode": "overlay",
              "size": 10,
              "solidity": 0.2
             }
            },
            "type": "histogram"
           }
          ],
          "histogram2d": [
           {
            "colorbar": {
             "outlinewidth": 0,
             "ticks": ""
            },
            "colorscale": [
             [
              0,
              "#0d0887"
             ],
             [
              0.1111111111111111,
              "#46039f"
             ],
             [
              0.2222222222222222,
              "#7201a8"
             ],
             [
              0.3333333333333333,
              "#9c179e"
             ],
             [
              0.4444444444444444,
              "#bd3786"
             ],
             [
              0.5555555555555556,
              "#d8576b"
             ],
             [
              0.6666666666666666,
              "#ed7953"
             ],
             [
              0.7777777777777778,
              "#fb9f3a"
             ],
             [
              0.8888888888888888,
              "#fdca26"
             ],
             [
              1,
              "#f0f921"
             ]
            ],
            "type": "histogram2d"
           }
          ],
          "histogram2dcontour": [
           {
            "colorbar": {
             "outlinewidth": 0,
             "ticks": ""
            },
            "colorscale": [
             [
              0,
              "#0d0887"
             ],
             [
              0.1111111111111111,
              "#46039f"
             ],
             [
              0.2222222222222222,
              "#7201a8"
             ],
             [
              0.3333333333333333,
              "#9c179e"
             ],
             [
              0.4444444444444444,
              "#bd3786"
             ],
             [
              0.5555555555555556,
              "#d8576b"
             ],
             [
              0.6666666666666666,
              "#ed7953"
             ],
             [
              0.7777777777777778,
              "#fb9f3a"
             ],
             [
              0.8888888888888888,
              "#fdca26"
             ],
             [
              1,
              "#f0f921"
             ]
            ],
            "type": "histogram2dcontour"
           }
          ],
          "mesh3d": [
           {
            "colorbar": {
             "outlinewidth": 0,
             "ticks": ""
            },
            "type": "mesh3d"
           }
          ],
          "parcoords": [
           {
            "line": {
             "colorbar": {
              "outlinewidth": 0,
              "ticks": ""
             }
            },
            "type": "parcoords"
           }
          ],
          "pie": [
           {
            "automargin": true,
            "type": "pie"
           }
          ],
          "scatter": [
           {
            "fillpattern": {
             "fillmode": "overlay",
             "size": 10,
             "solidity": 0.2
            },
            "type": "scatter"
           }
          ],
          "scatter3d": [
           {
            "line": {
             "colorbar": {
              "outlinewidth": 0,
              "ticks": ""
             }
            },
            "marker": {
             "colorbar": {
              "outlinewidth": 0,
              "ticks": ""
             }
            },
            "type": "scatter3d"
           }
          ],
          "scattercarpet": [
           {
            "marker": {
             "colorbar": {
              "outlinewidth": 0,
              "ticks": ""
             }
            },
            "type": "scattercarpet"
           }
          ],
          "scattergeo": [
           {
            "marker": {
             "colorbar": {
              "outlinewidth": 0,
              "ticks": ""
             }
            },
            "type": "scattergeo"
           }
          ],
          "scattergl": [
           {
            "marker": {
             "colorbar": {
              "outlinewidth": 0,
              "ticks": ""
             }
            },
            "type": "scattergl"
           }
          ],
          "scattermapbox": [
           {
            "marker": {
             "colorbar": {
              "outlinewidth": 0,
              "ticks": ""
             }
            },
            "type": "scattermapbox"
           }
          ],
          "scatterpolar": [
           {
            "marker": {
             "colorbar": {
              "outlinewidth": 0,
              "ticks": ""
             }
            },
            "type": "scatterpolar"
           }
          ],
          "scatterpolargl": [
           {
            "marker": {
             "colorbar": {
              "outlinewidth": 0,
              "ticks": ""
             }
            },
            "type": "scatterpolargl"
           }
          ],
          "scatterternary": [
           {
            "marker": {
             "colorbar": {
              "outlinewidth": 0,
              "ticks": ""
             }
            },
            "type": "scatterternary"
           }
          ],
          "surface": [
           {
            "colorbar": {
             "outlinewidth": 0,
             "ticks": ""
            },
            "colorscale": [
             [
              0,
              "#0d0887"
             ],
             [
              0.1111111111111111,
              "#46039f"
             ],
             [
              0.2222222222222222,
              "#7201a8"
             ],
             [
              0.3333333333333333,
              "#9c179e"
             ],
             [
              0.4444444444444444,
              "#bd3786"
             ],
             [
              0.5555555555555556,
              "#d8576b"
             ],
             [
              0.6666666666666666,
              "#ed7953"
             ],
             [
              0.7777777777777778,
              "#fb9f3a"
             ],
             [
              0.8888888888888888,
              "#fdca26"
             ],
             [
              1,
              "#f0f921"
             ]
            ],
            "type": "surface"
           }
          ],
          "table": [
           {
            "cells": {
             "fill": {
              "color": "#EBF0F8"
             },
             "line": {
              "color": "white"
             }
            },
            "header": {
             "fill": {
              "color": "#C8D4E3"
             },
             "line": {
              "color": "white"
             }
            },
            "type": "table"
           }
          ]
         },
         "layout": {
          "annotationdefaults": {
           "arrowcolor": "#2a3f5f",
           "arrowhead": 0,
           "arrowwidth": 1
          },
          "autotypenumbers": "strict",
          "coloraxis": {
           "colorbar": {
            "outlinewidth": 0,
            "ticks": ""
           }
          },
          "colorscale": {
           "diverging": [
            [
             0,
             "#8e0152"
            ],
            [
             0.1,
             "#c51b7d"
            ],
            [
             0.2,
             "#de77ae"
            ],
            [
             0.3,
             "#f1b6da"
            ],
            [
             0.4,
             "#fde0ef"
            ],
            [
             0.5,
             "#f7f7f7"
            ],
            [
             0.6,
             "#e6f5d0"
            ],
            [
             0.7,
             "#b8e186"
            ],
            [
             0.8,
             "#7fbc41"
            ],
            [
             0.9,
             "#4d9221"
            ],
            [
             1,
             "#276419"
            ]
           ],
           "sequential": [
            [
             0,
             "#0d0887"
            ],
            [
             0.1111111111111111,
             "#46039f"
            ],
            [
             0.2222222222222222,
             "#7201a8"
            ],
            [
             0.3333333333333333,
             "#9c179e"
            ],
            [
             0.4444444444444444,
             "#bd3786"
            ],
            [
             0.5555555555555556,
             "#d8576b"
            ],
            [
             0.6666666666666666,
             "#ed7953"
            ],
            [
             0.7777777777777778,
             "#fb9f3a"
            ],
            [
             0.8888888888888888,
             "#fdca26"
            ],
            [
             1,
             "#f0f921"
            ]
           ],
           "sequentialminus": [
            [
             0,
             "#0d0887"
            ],
            [
             0.1111111111111111,
             "#46039f"
            ],
            [
             0.2222222222222222,
             "#7201a8"
            ],
            [
             0.3333333333333333,
             "#9c179e"
            ],
            [
             0.4444444444444444,
             "#bd3786"
            ],
            [
             0.5555555555555556,
             "#d8576b"
            ],
            [
             0.6666666666666666,
             "#ed7953"
            ],
            [
             0.7777777777777778,
             "#fb9f3a"
            ],
            [
             0.8888888888888888,
             "#fdca26"
            ],
            [
             1,
             "#f0f921"
            ]
           ]
          },
          "colorway": [
           "#636efa",
           "#EF553B",
           "#00cc96",
           "#ab63fa",
           "#FFA15A",
           "#19d3f3",
           "#FF6692",
           "#B6E880",
           "#FF97FF",
           "#FECB52"
          ],
          "font": {
           "color": "#2a3f5f"
          },
          "geo": {
           "bgcolor": "white",
           "lakecolor": "white",
           "landcolor": "#E5ECF6",
           "showlakes": true,
           "showland": true,
           "subunitcolor": "white"
          },
          "hoverlabel": {
           "align": "left"
          },
          "hovermode": "closest",
          "mapbox": {
           "style": "light"
          },
          "paper_bgcolor": "white",
          "plot_bgcolor": "#E5ECF6",
          "polar": {
           "angularaxis": {
            "gridcolor": "white",
            "linecolor": "white",
            "ticks": ""
           },
           "bgcolor": "#E5ECF6",
           "radialaxis": {
            "gridcolor": "white",
            "linecolor": "white",
            "ticks": ""
           }
          },
          "scene": {
           "xaxis": {
            "backgroundcolor": "#E5ECF6",
            "gridcolor": "white",
            "gridwidth": 2,
            "linecolor": "white",
            "showbackground": true,
            "ticks": "",
            "zerolinecolor": "white"
           },
           "yaxis": {
            "backgroundcolor": "#E5ECF6",
            "gridcolor": "white",
            "gridwidth": 2,
            "linecolor": "white",
            "showbackground": true,
            "ticks": "",
            "zerolinecolor": "white"
           },
           "zaxis": {
            "backgroundcolor": "#E5ECF6",
            "gridcolor": "white",
            "gridwidth": 2,
            "linecolor": "white",
            "showbackground": true,
            "ticks": "",
            "zerolinecolor": "white"
           }
          },
          "shapedefaults": {
           "line": {
            "color": "#2a3f5f"
           }
          },
          "ternary": {
           "aaxis": {
            "gridcolor": "white",
            "linecolor": "white",
            "ticks": ""
           },
           "baxis": {
            "gridcolor": "white",
            "linecolor": "white",
            "ticks": ""
           },
           "bgcolor": "#E5ECF6",
           "caxis": {
            "gridcolor": "white",
            "linecolor": "white",
            "ticks": ""
           }
          },
          "title": {
           "x": 0.05
          },
          "xaxis": {
           "automargin": true,
           "gridcolor": "white",
           "linecolor": "white",
           "ticks": "",
           "title": {
            "standoff": 15
           },
           "zerolinecolor": "white",
           "zerolinewidth": 2
          },
          "yaxis": {
           "automargin": true,
           "gridcolor": "white",
           "linecolor": "white",
           "ticks": "",
           "title": {
            "standoff": 15
           },
           "zerolinecolor": "white",
           "zerolinewidth": 2
          }
         }
        },
        "title": {
         "text": "Split Times for men 200m backstroke"
        },
        "updatemenus": [
         {
          "buttons": [
           {
            "args": [
             {
              "visible": [
               true,
               true,
               true,
               true,
               true,
               true,
               true,
               true,
               false,
               false,
               false,
               false,
               false,
               false,
               false,
               false,
               false,
               false,
               false,
               false,
               false,
               false,
               false,
               false,
               false,
               false,
               false,
               false,
               false,
               false,
               false,
               false,
               false,
               false,
               false,
               false,
               false,
               false,
               false,
               false,
               false,
               false,
               false,
               false,
               false,
               false,
               false,
               false,
               false,
               false,
               false,
               false,
               false,
               false,
               false,
               false,
               false,
               false,
               false,
               false,
               false,
               false,
               false,
               false,
               false,
               false,
               false,
               false,
               false,
               false,
               false,
               false,
               false,
               false,
               false,
               false,
               false,
               false,
               false,
               false
              ]
             },
             {
              "title": "Split Times for men 200m backstroke"
             }
            ],
            "label": "men 200m backstroke",
            "method": "update"
           },
           {
            "args": [
             {
              "visible": [
               false,
               false,
               false,
               false,
               false,
               false,
               false,
               false,
               true,
               true,
               true,
               true,
               true,
               true,
               true,
               true,
               false,
               false,
               false,
               false,
               false,
               false,
               false,
               false,
               false,
               false,
               false,
               false,
               false,
               false,
               false,
               false,
               false,
               false,
               false,
               false,
               false,
               false,
               false,
               false,
               false,
               false,
               false,
               false,
               false,
               false,
               false,
               false,
               false,
               false,
               false,
               false,
               false,
               false,
               false,
               false,
               false,
               false,
               false,
               false,
               false,
               false,
               false,
               false,
               false,
               false,
               false,
               false,
               false,
               false,
               false,
               false,
               false,
               false,
               false,
               false,
               false,
               false,
               false,
               false
              ]
             },
             {
              "title": "Split Times for men 200m butterfly"
             }
            ],
            "label": "men 200m butterfly",
            "method": "update"
           },
           {
            "args": [
             {
              "visible": [
               false,
               false,
               false,
               false,
               false,
               false,
               false,
               false,
               false,
               false,
               false,
               false,
               false,
               false,
               false,
               false,
               true,
               true,
               true,
               true,
               true,
               true,
               true,
               true,
               false,
               false,
               false,
               false,
               false,
               false,
               false,
               false,
               false,
               false,
               false,
               false,
               false,
               false,
               false,
               false,
               false,
               false,
               false,
               false,
               false,
               false,
               false,
               false,
               false,
               false,
               false,
               false,
               false,
               false,
               false,
               false,
               false,
               false,
               false,
               false,
               false,
               false,
               false,
               false,
               false,
               false,
               false,
               false,
               false,
               false,
               false,
               false,
               false,
               false,
               false,
               false,
               false,
               false,
               false,
               false
              ]
             },
             {
              "title": "Split Times for men 200m breaststroke"
             }
            ],
            "label": "men 200m breaststroke",
            "method": "update"
           },
           {
            "args": [
             {
              "visible": [
               false,
               false,
               false,
               false,
               false,
               false,
               false,
               false,
               false,
               false,
               false,
               false,
               false,
               false,
               false,
               false,
               false,
               false,
               false,
               false,
               false,
               false,
               false,
               false,
               true,
               true,
               true,
               true,
               true,
               true,
               true,
               true,
               false,
               false,
               false,
               false,
               false,
               false,
               false,
               false,
               false,
               false,
               false,
               false,
               false,
               false,
               false,
               false,
               false,
               false,
               false,
               false,
               false,
               false,
               false,
               false,
               false,
               false,
               false,
               false,
               false,
               false,
               false,
               false,
               false,
               false,
               false,
               false,
               false,
               false,
               false,
               false,
               false,
               false,
               false,
               false,
               false,
               false,
               false,
               false
              ]
             },
             {
              "title": "Split Times for men 200m freestyle"
             }
            ],
            "label": "men 200m freestyle",
            "method": "update"
           },
           {
            "args": [
             {
              "visible": [
               false,
               false,
               false,
               false,
               false,
               false,
               false,
               false,
               false,
               false,
               false,
               false,
               false,
               false,
               false,
               false,
               false,
               false,
               false,
               false,
               false,
               false,
               false,
               false,
               false,
               false,
               false,
               false,
               false,
               false,
               false,
               false,
               true,
               true,
               true,
               true,
               true,
               true,
               true,
               true,
               false,
               false,
               false,
               false,
               false,
               false,
               false,
               false,
               false,
               false,
               false,
               false,
               false,
               false,
               false,
               false,
               false,
               false,
               false,
               false,
               false,
               false,
               false,
               false,
               false,
               false,
               false,
               false,
               false,
               false,
               false,
               false,
               false,
               false,
               false,
               false,
               false,
               false,
               false,
               false
              ]
             },
             {
              "title": "Split Times for men 200m individual medley"
             }
            ],
            "label": "men 200m individual medley",
            "method": "update"
           },
           {
            "args": [
             {
              "visible": [
               false,
               false,
               false,
               false,
               false,
               false,
               false,
               false,
               false,
               false,
               false,
               false,
               false,
               false,
               false,
               false,
               false,
               false,
               false,
               false,
               false,
               false,
               false,
               false,
               false,
               false,
               false,
               false,
               false,
               false,
               false,
               false,
               false,
               false,
               false,
               false,
               false,
               false,
               false,
               false,
               true,
               true,
               true,
               true,
               true,
               true,
               true,
               true,
               false,
               false,
               false,
               false,
               false,
               false,
               false,
               false,
               false,
               false,
               false,
               false,
               false,
               false,
               false,
               false,
               false,
               false,
               false,
               false,
               false,
               false,
               false,
               false,
               false,
               false,
               false,
               false,
               false,
               false,
               false,
               false
              ]
             },
             {
              "title": "Split Times for women 200m backstroke"
             }
            ],
            "label": "women 200m backstroke",
            "method": "update"
           },
           {
            "args": [
             {
              "visible": [
               false,
               false,
               false,
               false,
               false,
               false,
               false,
               false,
               false,
               false,
               false,
               false,
               false,
               false,
               false,
               false,
               false,
               false,
               false,
               false,
               false,
               false,
               false,
               false,
               false,
               false,
               false,
               false,
               false,
               false,
               false,
               false,
               false,
               false,
               false,
               false,
               false,
               false,
               false,
               false,
               false,
               false,
               false,
               false,
               false,
               false,
               false,
               false,
               true,
               true,
               true,
               true,
               true,
               true,
               true,
               true,
               false,
               false,
               false,
               false,
               false,
               false,
               false,
               false,
               false,
               false,
               false,
               false,
               false,
               false,
               false,
               false,
               false,
               false,
               false,
               false,
               false,
               false,
               false,
               false
              ]
             },
             {
              "title": "Split Times for women 200m butterfly"
             }
            ],
            "label": "women 200m butterfly",
            "method": "update"
           },
           {
            "args": [
             {
              "visible": [
               false,
               false,
               false,
               false,
               false,
               false,
               false,
               false,
               false,
               false,
               false,
               false,
               false,
               false,
               false,
               false,
               false,
               false,
               false,
               false,
               false,
               false,
               false,
               false,
               false,
               false,
               false,
               false,
               false,
               false,
               false,
               false,
               false,
               false,
               false,
               false,
               false,
               false,
               false,
               false,
               false,
               false,
               false,
               false,
               false,
               false,
               false,
               false,
               false,
               false,
               false,
               false,
               false,
               false,
               false,
               false,
               true,
               true,
               true,
               true,
               true,
               true,
               true,
               true,
               false,
               false,
               false,
               false,
               false,
               false,
               false,
               false,
               false,
               false,
               false,
               false,
               false,
               false,
               false,
               false
              ]
             },
             {
              "title": "Split Times for women 200m breaststroke"
             }
            ],
            "label": "women 200m breaststroke",
            "method": "update"
           },
           {
            "args": [
             {
              "visible": [
               false,
               false,
               false,
               false,
               false,
               false,
               false,
               false,
               false,
               false,
               false,
               false,
               false,
               false,
               false,
               false,
               false,
               false,
               false,
               false,
               false,
               false,
               false,
               false,
               false,
               false,
               false,
               false,
               false,
               false,
               false,
               false,
               false,
               false,
               false,
               false,
               false,
               false,
               false,
               false,
               false,
               false,
               false,
               false,
               false,
               false,
               false,
               false,
               false,
               false,
               false,
               false,
               false,
               false,
               false,
               false,
               false,
               false,
               false,
               false,
               false,
               false,
               false,
               false,
               true,
               true,
               true,
               true,
               true,
               true,
               true,
               true,
               false,
               false,
               false,
               false,
               false,
               false,
               false,
               false
              ]
             },
             {
              "title": "Split Times for women 200m freestyle"
             }
            ],
            "label": "women 200m freestyle",
            "method": "update"
           },
           {
            "args": [
             {
              "visible": [
               false,
               false,
               false,
               false,
               false,
               false,
               false,
               false,
               false,
               false,
               false,
               false,
               false,
               false,
               false,
               false,
               false,
               false,
               false,
               false,
               false,
               false,
               false,
               false,
               false,
               false,
               false,
               false,
               false,
               false,
               false,
               false,
               false,
               false,
               false,
               false,
               false,
               false,
               false,
               false,
               false,
               false,
               false,
               false,
               false,
               false,
               false,
               false,
               false,
               false,
               false,
               false,
               false,
               false,
               false,
               false,
               false,
               false,
               false,
               false,
               false,
               false,
               false,
               false,
               false,
               false,
               false,
               false,
               false,
               false,
               false,
               false,
               true,
               true,
               true,
               true,
               true,
               true,
               true,
               true
              ]
             },
             {
              "title": "Split Times for women 200m individual medley"
             }
            ],
            "label": "women 200m individual medley",
            "method": "update"
           }
          ],
          "direction": "down",
          "showactive": true,
          "x": 0.01,
          "xanchor": "left",
          "y": 1.05,
          "yanchor": "top"
         }
        ],
        "xaxis": {
         "title": {
          "text": "Distance (m)"
         }
        },
        "yaxis": {
         "range": [
          0,
          144.57
         ],
         "title": {
          "text": "Time (s)"
         }
        }
       }
      },
      "text/html": [
       "<div>                            <div id=\"ac66f031-5c22-48ad-bad6-289a421a38a2\" class=\"plotly-graph-div\" style=\"height:525px; width:100%;\"></div>            <script type=\"text/javascript\">                require([\"plotly\"], function(Plotly) {                    window.PLOTLYENV=window.PLOTLYENV || {};                                    if (document.getElementById(\"ac66f031-5c22-48ad-bad6-289a421a38a2\")) {                    Plotly.newPlot(                        \"ac66f031-5c22-48ad-bad6-289a421a38a2\",                        [{\"mode\":\"lines+markers\",\"name\":\"RYLOV Evgeny\",\"x\":[0,50,100,150,200],\"y\":[0,26.81,55.18,83.93,113.27000000000001],\"type\":\"scatter\",\"visible\":true},{\"mode\":\"lines+markers\",\"name\":\"MURPHY Ryan\",\"x\":[0,50,100,150,200],\"y\":[0,27.11,55.629999999999995,84.64999999999999,114.14999999999999],\"type\":\"scatter\",\"visible\":true},{\"mode\":\"lines+markers\",\"name\":\"GREENBANK Luke\",\"x\":[0,50,100,150,200],\"y\":[0,27.02,55.72,85.08,114.72],\"type\":\"scatter\",\"visible\":true},{\"mode\":\"lines+markers\",\"name\":\"MEFFORD Bryce\",\"x\":[0,50,100,150,200],\"y\":[0,27.19,56.11,85.32,115.49],\"type\":\"scatter\",\"visible\":true},{\"mode\":\"lines+markers\",\"name\":\"TELEGDY Adam\",\"x\":[0,50,100,150,200],\"y\":[0,27.57,56.96,86.71000000000001,116.15],\"type\":\"scatter\",\"visible\":true},{\"mode\":\"lines+markers\",\"name\":\"KAWECKI Radoslaw\",\"x\":[0,50,100,150,200],\"y\":[0,27.89,57.54,86.77,116.39],\"type\":\"scatter\",\"visible\":true},{\"mode\":\"lines+markers\",\"name\":\"IRIE Ryosuke\",\"x\":[0,50,100,150,200],\"y\":[0,27.48,57.120000000000005,87.30000000000001,117.32000000000001],\"type\":\"scatter\",\"visible\":true},{\"mode\":\"lines+markers\",\"name\":\"GARCIA SAIZ Nicolas\",\"x\":[0,50,100,150,200],\"y\":[0,27.66,57.06,87.55,119.06],\"type\":\"scatter\",\"visible\":true},{\"mode\":\"lines+markers\",\"name\":\"MILAK Kristof\",\"x\":[0,50,100,150,200],\"y\":[0,24.48,53.480000000000004,82.15,111.25],\"type\":\"scatter\",\"visible\":false},{\"mode\":\"lines+markers\",\"name\":\"HONDA Tomoru\",\"x\":[0,50,100,150,200],\"y\":[0,25.52,54.43,83.9,113.73],\"type\":\"scatter\",\"visible\":false},{\"mode\":\"lines+markers\",\"name\":\"BURDISSO Federico\",\"x\":[0,50,100,150,200],\"y\":[0,25.0,53.42,83.1,114.44999999999999],\"type\":\"scatter\",\"visible\":false},{\"mode\":\"lines+markers\",\"name\":\"KENDERESI Tamas\",\"x\":[0,50,100,150,200],\"y\":[0,25.57,55.129999999999995,84.71,114.52],\"type\":\"scatter\",\"visible\":false},{\"mode\":\"lines+markers\",\"name\":\"le CLOS Chad\",\"x\":[0,50,100,150,200],\"y\":[0,24.66,53.32,83.61,114.93],\"type\":\"scatter\",\"visible\":false},{\"mode\":\"lines+markers\",\"name\":\"de DEUS Leonardo\",\"x\":[0,50,100,150,200],\"y\":[0,25.73,55.05,84.97,115.19],\"type\":\"scatter\",\"visible\":false},{\"mode\":\"lines+markers\",\"name\":\"BENTZ Gunnar\",\"x\":[0,50,100,150,200],\"y\":[0,25.54,54.46,84.66,115.46],\"type\":\"scatter\",\"visible\":false},{\"mode\":\"lines+markers\",\"name\":\"CHMIELEWSKI Krzysztof\",\"x\":[0,50,100,150,200],\"y\":[0,25.96,55.24,85.47,115.88],\"type\":\"scatter\",\"visible\":false},{\"mode\":\"lines+markers\",\"name\":\"STUBBLETY-COOK Izaac\",\"x\":[0,50,100,150,200],\"y\":[0,29.35,61.72,94.17,126.38],\"type\":\"scatter\",\"visible\":false},{\"mode\":\"lines+markers\",\"name\":\"KAMMINGA Arno\",\"x\":[0,50,100,150,200],\"y\":[0,28.14,60.09,92.98,127.01],\"type\":\"scatter\",\"visible\":false},{\"mode\":\"lines+markers\",\"name\":\"MATTSSON Matti\",\"x\":[0,50,100,150,200],\"y\":[0,28.96,60.85,93.35,127.13],\"type\":\"scatter\",\"visible\":false},{\"mode\":\"lines+markers\",\"name\":\"CHUPKOV Anton\",\"x\":[0,50,100,150,200],\"y\":[0,29.66,62.379999999999995,94.25999999999999,127.23999999999998],\"type\":\"scatter\",\"visible\":false},{\"mode\":\"lines+markers\",\"name\":\"FINK Nic\",\"x\":[0,50,100,150,200],\"y\":[0,28.98,61.84,94.5,127.93],\"type\":\"scatter\",\"visible\":false},{\"mode\":\"lines+markers\",\"name\":\"WILBY James\",\"x\":[0,50,100,150,200],\"y\":[0,28.62,61.34,94.49000000000001,128.19],\"type\":\"scatter\",\"visible\":false},{\"mode\":\"lines+markers\",\"name\":\"MURA Ryuya\",\"x\":[0,50,100,150,200],\"y\":[0,29.34,62.11,95.47999999999999,128.42],\"type\":\"scatter\",\"visible\":false},{\"mode\":\"lines+markers\",\"name\":\"PERSSON Erik\",\"x\":[0,50,100,150,200],\"y\":[0,29.5,61.9,95.24000000000001,128.88],\"type\":\"scatter\",\"visible\":false},{\"mode\":\"lines+markers\",\"name\":\"DEAN Tom\",\"x\":[0,50,100,150,200],\"y\":[0,24.21,50.46,77.38,104.22],\"type\":\"scatter\",\"visible\":false},{\"mode\":\"lines+markers\",\"name\":\"SCOTT Duncan\",\"x\":[0,50,100,150,200],\"y\":[0,24.81,51.379999999999995,77.8,104.25999999999999],\"type\":\"scatter\",\"visible\":false},{\"mode\":\"lines+markers\",\"name\":\"SCHEFFER Fernando\",\"x\":[0,50,100,150,200],\"y\":[0,24.24,50.25,77.28,104.66],\"type\":\"scatter\",\"visible\":false},{\"mode\":\"lines+markers\",\"name\":\"POPOVICI David\",\"x\":[0,50,100,150,200],\"y\":[0,24.23,50.730000000000004,77.97,104.68],\"type\":\"scatter\",\"visible\":false},{\"mode\":\"lines+markers\",\"name\":\"MALYUTIN Martin\",\"x\":[0,50,100,150,200],\"y\":[0,25.03,51.650000000000006,78.43,105.01],\"type\":\"scatter\",\"visible\":false},{\"mode\":\"lines+markers\",\"name\":\"SMITH Kieran\",\"x\":[0,50,100,150,200],\"y\":[0,24.58,50.94,77.81,105.12],\"type\":\"scatter\",\"visible\":false},{\"mode\":\"lines+markers\",\"name\":\"HWANG Sunwoo\",\"x\":[0,50,100,150,200],\"y\":[0,23.95,49.78,76.56,105.26],\"type\":\"scatter\",\"visible\":false},{\"mode\":\"lines+markers\",\"name\":\"RAPSYS Danas\",\"x\":[0,50,100,150,200],\"y\":[0,24.96,51.96,78.83,105.78],\"type\":\"scatter\",\"visible\":false},{\"mode\":\"lines+markers\",\"name\":\"WANG Shun\",\"x\":[0,50,100,150,200],\"y\":[0,24.78,53.78,87.63,115.0],\"type\":\"scatter\",\"visible\":false},{\"mode\":\"lines+markers\",\"name\":\"SCOTT Duncan\",\"x\":[0,50,100,150,200],\"y\":[0,25.06,54.519999999999996,87.82,115.28],\"type\":\"scatter\",\"visible\":false},{\"mode\":\"lines+markers\",\"name\":\"DESPLANCHES Jeremy\",\"x\":[0,50,100,150,200],\"y\":[0,24.91,54.25,87.72,116.17],\"type\":\"scatter\",\"visible\":false},{\"mode\":\"lines+markers\",\"name\":\"SETO Daiya\",\"x\":[0,50,100,150,200],\"y\":[0,25.14,54.69,87.64,116.22],\"type\":\"scatter\",\"visible\":false},{\"mode\":\"lines+markers\",\"name\":\"ANDREW Michael\",\"x\":[0,50,100,150,200],\"y\":[0,24.21,54.510000000000005,86.62,117.31],\"type\":\"scatter\",\"visible\":false},{\"mode\":\"lines+markers\",\"name\":\"HAGINO Kosuke\",\"x\":[0,50,100,150,200],\"y\":[0,25.43,54.05,88.36,117.49],\"type\":\"scatter\",\"visible\":false},{\"mode\":\"lines+markers\",\"name\":\"CSEH Laszlo\",\"x\":[0,50,100,150,200],\"y\":[0,24.7,53.849999999999994,89.07,117.67999999999999],\"type\":\"scatter\",\"visible\":false},{\"mode\":\"lines+markers\",\"name\":\"CLAREBURT Lewis\",\"x\":[0,50,100,150,200],\"y\":[0,25.25,54.760000000000005,89.2,117.7],\"type\":\"scatter\",\"visible\":false},{\"mode\":\"lines+markers\",\"name\":\"McKEOWN Kaylee\",\"x\":[0,50,100,150,200],\"y\":[0,29.39,61.54,93.6,124.67999999999999],\"type\":\"scatter\",\"visible\":false},{\"mode\":\"lines+markers\",\"name\":\"MASSE Kylie\",\"x\":[0,50,100,150,200],\"y\":[0,29.3,60.74,92.91,125.41999999999999],\"type\":\"scatter\",\"visible\":false},{\"mode\":\"lines+markers\",\"name\":\"SEEBOHM Emily\",\"x\":[0,50,100,150,200],\"y\":[0,29.92,62.14,94.72,126.17],\"type\":\"scatter\",\"visible\":false},{\"mode\":\"lines+markers\",\"name\":\"WHITE Rhyan Elizabeth\",\"x\":[0,50,100,150,200],\"y\":[0,29.59,61.61,94.08,126.39],\"type\":\"scatter\",\"visible\":false},{\"mode\":\"lines+markers\",\"name\":\"BACON Phoebe\",\"x\":[0,50,100,150,200],\"y\":[0,29.77,61.55,93.99,126.39999999999999],\"type\":\"scatter\",\"visible\":false},{\"mode\":\"lines+markers\",\"name\":\"RUCK Taylor\",\"x\":[0,50,100,150,200],\"y\":[0,29.62,61.900000000000006,94.81,128.24],\"type\":\"scatter\",\"visible\":false},{\"mode\":\"lines+markers\",\"name\":\"PENG Xuwei\",\"x\":[0,50,100,150,200],\"y\":[0,29.95,62.129999999999995,95.44,128.26],\"type\":\"scatter\",\"visible\":false},{\"mode\":\"lines+markers\",\"name\":\"LIU Yaxin\",\"x\":[0,50,100,150,200],\"y\":[0,30.46,62.68,95.77000000000001,128.48000000000002],\"type\":\"scatter\",\"visible\":false},{\"mode\":\"lines+markers\",\"name\":\"ZHANG Yufei\",\"x\":[0,50,100,150,200],\"y\":[0,26.92,58.290000000000006,91.03,123.86],\"type\":\"scatter\",\"visible\":false},{\"mode\":\"lines+markers\",\"name\":\"SMITH Regan\",\"x\":[0,50,100,150,200],\"y\":[0,28.12,60.39,93.2,125.30000000000001],\"type\":\"scatter\",\"visible\":false},{\"mode\":\"lines+markers\",\"name\":\"FLICKINGER Hali\",\"x\":[0,50,100,150,200],\"y\":[0,28.43,59.86,92.37,125.65],\"type\":\"scatter\",\"visible\":false},{\"mode\":\"lines+markers\",\"name\":\"KAPAS Boglarka\",\"x\":[0,50,100,150,200],\"y\":[0,28.68,60.99,93.30000000000001,126.53],\"type\":\"scatter\",\"visible\":false},{\"mode\":\"lines+markers\",\"name\":\"CHIMROVA Svetlana\",\"x\":[0,50,100,150,200],\"y\":[0,28.59,61.239999999999995,94.44,127.69999999999999],\"type\":\"scatter\",\"visible\":false},{\"mode\":\"lines+markers\",\"name\":\"YU Liyan\",\"x\":[0,50,100,150,200],\"y\":[0,28.48,60.95,93.86,127.85],\"type\":\"scatter\",\"visible\":false},{\"mode\":\"lines+markers\",\"name\":\"THOMAS Alys Margaret\",\"x\":[0,50,100,150,200],\"y\":[0,29.02,61.09,94.01,127.9],\"type\":\"scatter\",\"visible\":false},{\"mode\":\"lines+markers\",\"name\":\"THROSSELL Brianna\",\"x\":[0,50,100,150,200],\"y\":[0,28.92,61.620000000000005,95.11000000000001,129.48000000000002],\"type\":\"scatter\",\"visible\":false},{\"mode\":\"lines+markers\",\"name\":\"SCHOENMAKER Tatjana\",\"x\":[0,50,100,150,200],\"y\":[0,31.64,67.06,102.48,138.95],\"type\":\"scatter\",\"visible\":false},{\"mode\":\"lines+markers\",\"name\":\"KING Lilly\",\"x\":[0,50,100,150,200],\"y\":[0,31.27,66.47,102.57,139.92],\"type\":\"scatter\",\"visible\":false},{\"mode\":\"lines+markers\",\"name\":\"LAZOR Annie\",\"x\":[0,50,100,150,200],\"y\":[0,32.73,68.61,104.72999999999999,140.83999999999997],\"type\":\"scatter\",\"visible\":false},{\"mode\":\"lines+markers\",\"name\":\"CHIKUNOVA Evgeniia\",\"x\":[0,50,100,150,200],\"y\":[0,32.37,68.33,104.72999999999999,140.88],\"type\":\"scatter\",\"visible\":false},{\"mode\":\"lines+markers\",\"name\":\"CORBETT Kaylene\",\"x\":[0,50,100,150,200],\"y\":[0,32.84,69.15,105.59,142.06],\"type\":\"scatter\",\"visible\":false},{\"mode\":\"lines+markers\",\"name\":\"RENSHAW Molly\",\"x\":[0,50,100,150,200],\"y\":[0,32.6,68.35,105.32,142.64999999999998],\"type\":\"scatter\",\"visible\":false},{\"mode\":\"lines+markers\",\"name\":\"WOOD Abbie\",\"x\":[0,50,100,150,200],\"y\":[0,32.7,69.05000000000001,105.98000000000002,143.72000000000003],\"type\":\"scatter\",\"visible\":false},{\"mode\":\"lines+markers\",\"name\":\"LECLUYSE Fanny\",\"x\":[0,50,100,150,200],\"y\":[0,32.49,68.95,106.2,144.57],\"type\":\"scatter\",\"visible\":false},{\"mode\":\"lines+markers\",\"name\":\"TITMUS Ariarne\",\"x\":[0,50,100,150,200],\"y\":[0,27.04,55.849999999999994,84.69999999999999,113.49999999999999],\"type\":\"scatter\",\"visible\":false},{\"mode\":\"lines+markers\",\"name\":\"HAUGHEY Siobhan Bernadette\",\"x\":[0,50,100,150,200],\"y\":[0,26.77,55.099999999999994,84.17999999999999,113.91999999999999],\"type\":\"scatter\",\"visible\":false},{\"mode\":\"lines+markers\",\"name\":\"OLEKSIAK Penny\",\"x\":[0,50,100,150,200],\"y\":[0,26.4,55.36,84.95,114.7],\"type\":\"scatter\",\"visible\":false},{\"mode\":\"lines+markers\",\"name\":\"YANG Junxuan\",\"x\":[0,50,100,150,200],\"y\":[0,26.69,55.28,84.65,115.01],\"type\":\"scatter\",\"visible\":false},{\"mode\":\"lines+markers\",\"name\":\"LEDECKY Kathleen\",\"x\":[0,50,100,150,200],\"y\":[0,27.15,56.15,85.55,115.21],\"type\":\"scatter\",\"visible\":false},{\"mode\":\"lines+markers\",\"name\":\"SEEMANOVA Barbora\",\"x\":[0,50,100,150,200],\"y\":[0,27.07,56.269999999999996,85.91,115.44999999999999],\"type\":\"scatter\",\"visible\":false},{\"mode\":\"lines+markers\",\"name\":\"PELLEGRINI Federica\",\"x\":[0,50,100,150,200],\"y\":[0,27.29,56.64,86.46000000000001,115.91000000000001],\"type\":\"scatter\",\"visible\":false},{\"mode\":\"lines+markers\",\"name\":\"WILSON Madison\",\"x\":[0,50,100,150,200],\"y\":[0,26.98,56.42,86.16,116.39],\"type\":\"scatter\",\"visible\":false},{\"mode\":\"lines+markers\",\"name\":\"OHASHI Yui\",\"x\":[0,50,100,150,200],\"y\":[0,27.99,60.489999999999995,97.77,128.51999999999998],\"type\":\"scatter\",\"visible\":false},{\"mode\":\"lines+markers\",\"name\":\"WALSH Alex\",\"x\":[0,50,100,150,200],\"y\":[0,27.98,60.66,97.69999999999999,128.64999999999998],\"type\":\"scatter\",\"visible\":false},{\"mode\":\"lines+markers\",\"name\":\"DOUGLASS Kate\",\"x\":[0,50,100,150,200],\"y\":[0,27.43,61.36,98.22999999999999,129.04],\"type\":\"scatter\",\"visible\":false},{\"mode\":\"lines+markers\",\"name\":\"WOOD Abbie\",\"x\":[0,50,100,150,200],\"y\":[0,27.72,61.04,97.91,129.15],\"type\":\"scatter\",\"visible\":false},{\"mode\":\"lines+markers\",\"name\":\"YU Yiting\",\"x\":[0,50,100,150,200],\"y\":[0,27.22,60.42,98.36,129.57],\"type\":\"scatter\",\"visible\":false},{\"mode\":\"lines+markers\",\"name\":\"PICKREM Sydney\",\"x\":[0,50,100,150,200],\"y\":[0,28.25,61.71,99.22,130.05],\"type\":\"scatter\",\"visible\":false},{\"mode\":\"lines+markers\",\"name\":\"HOSSZU Katinka\",\"x\":[0,50,100,150,200],\"y\":[0,28.5,62.0,101.27000000000001,132.38],\"type\":\"scatter\",\"visible\":false},{\"mode\":\"lines+markers\",\"name\":\"WILSON Alicia\",\"x\":[0,50,100,150,200],\"y\":[0,27.99,61.2,100.43,132.86],\"type\":\"scatter\",\"visible\":false}],                        {\"template\":{\"data\":{\"histogram2dcontour\":[{\"type\":\"histogram2dcontour\",\"colorbar\":{\"outlinewidth\":0,\"ticks\":\"\"},\"colorscale\":[[0.0,\"#0d0887\"],[0.1111111111111111,\"#46039f\"],[0.2222222222222222,\"#7201a8\"],[0.3333333333333333,\"#9c179e\"],[0.4444444444444444,\"#bd3786\"],[0.5555555555555556,\"#d8576b\"],[0.6666666666666666,\"#ed7953\"],[0.7777777777777778,\"#fb9f3a\"],[0.8888888888888888,\"#fdca26\"],[1.0,\"#f0f921\"]]}],\"choropleth\":[{\"type\":\"choropleth\",\"colorbar\":{\"outlinewidth\":0,\"ticks\":\"\"}}],\"histogram2d\":[{\"type\":\"histogram2d\",\"colorbar\":{\"outlinewidth\":0,\"ticks\":\"\"},\"colorscale\":[[0.0,\"#0d0887\"],[0.1111111111111111,\"#46039f\"],[0.2222222222222222,\"#7201a8\"],[0.3333333333333333,\"#9c179e\"],[0.4444444444444444,\"#bd3786\"],[0.5555555555555556,\"#d8576b\"],[0.6666666666666666,\"#ed7953\"],[0.7777777777777778,\"#fb9f3a\"],[0.8888888888888888,\"#fdca26\"],[1.0,\"#f0f921\"]]}],\"heatmap\":[{\"type\":\"heatmap\",\"colorbar\":{\"outlinewidth\":0,\"ticks\":\"\"},\"colorscale\":[[0.0,\"#0d0887\"],[0.1111111111111111,\"#46039f\"],[0.2222222222222222,\"#7201a8\"],[0.3333333333333333,\"#9c179e\"],[0.4444444444444444,\"#bd3786\"],[0.5555555555555556,\"#d8576b\"],[0.6666666666666666,\"#ed7953\"],[0.7777777777777778,\"#fb9f3a\"],[0.8888888888888888,\"#fdca26\"],[1.0,\"#f0f921\"]]}],\"heatmapgl\":[{\"type\":\"heatmapgl\",\"colorbar\":{\"outlinewidth\":0,\"ticks\":\"\"},\"colorscale\":[[0.0,\"#0d0887\"],[0.1111111111111111,\"#46039f\"],[0.2222222222222222,\"#7201a8\"],[0.3333333333333333,\"#9c179e\"],[0.4444444444444444,\"#bd3786\"],[0.5555555555555556,\"#d8576b\"],[0.6666666666666666,\"#ed7953\"],[0.7777777777777778,\"#fb9f3a\"],[0.8888888888888888,\"#fdca26\"],[1.0,\"#f0f921\"]]}],\"contourcarpet\":[{\"type\":\"contourcarpet\",\"colorbar\":{\"outlinewidth\":0,\"ticks\":\"\"}}],\"contour\":[{\"type\":\"contour\",\"colorbar\":{\"outlinewidth\":0,\"ticks\":\"\"},\"colorscale\":[[0.0,\"#0d0887\"],[0.1111111111111111,\"#46039f\"],[0.2222222222222222,\"#7201a8\"],[0.3333333333333333,\"#9c179e\"],[0.4444444444444444,\"#bd3786\"],[0.5555555555555556,\"#d8576b\"],[0.6666666666666666,\"#ed7953\"],[0.7777777777777778,\"#fb9f3a\"],[0.8888888888888888,\"#fdca26\"],[1.0,\"#f0f921\"]]}],\"surface\":[{\"type\":\"surface\",\"colorbar\":{\"outlinewidth\":0,\"ticks\":\"\"},\"colorscale\":[[0.0,\"#0d0887\"],[0.1111111111111111,\"#46039f\"],[0.2222222222222222,\"#7201a8\"],[0.3333333333333333,\"#9c179e\"],[0.4444444444444444,\"#bd3786\"],[0.5555555555555556,\"#d8576b\"],[0.6666666666666666,\"#ed7953\"],[0.7777777777777778,\"#fb9f3a\"],[0.8888888888888888,\"#fdca26\"],[1.0,\"#f0f921\"]]}],\"mesh3d\":[{\"type\":\"mesh3d\",\"colorbar\":{\"outlinewidth\":0,\"ticks\":\"\"}}],\"scatter\":[{\"fillpattern\":{\"fillmode\":\"overlay\",\"size\":10,\"solidity\":0.2},\"type\":\"scatter\"}],\"parcoords\":[{\"type\":\"parcoords\",\"line\":{\"colorbar\":{\"outlinewidth\":0,\"ticks\":\"\"}}}],\"scatterpolargl\":[{\"type\":\"scatterpolargl\",\"marker\":{\"colorbar\":{\"outlinewidth\":0,\"ticks\":\"\"}}}],\"bar\":[{\"error_x\":{\"color\":\"#2a3f5f\"},\"error_y\":{\"color\":\"#2a3f5f\"},\"marker\":{\"line\":{\"color\":\"#E5ECF6\",\"width\":0.5},\"pattern\":{\"fillmode\":\"overlay\",\"size\":10,\"solidity\":0.2}},\"type\":\"bar\"}],\"scattergeo\":[{\"type\":\"scattergeo\",\"marker\":{\"colorbar\":{\"outlinewidth\":0,\"ticks\":\"\"}}}],\"scatterpolar\":[{\"type\":\"scatterpolar\",\"marker\":{\"colorbar\":{\"outlinewidth\":0,\"ticks\":\"\"}}}],\"histogram\":[{\"marker\":{\"pattern\":{\"fillmode\":\"overlay\",\"size\":10,\"solidity\":0.2}},\"type\":\"histogram\"}],\"scattergl\":[{\"type\":\"scattergl\",\"marker\":{\"colorbar\":{\"outlinewidth\":0,\"ticks\":\"\"}}}],\"scatter3d\":[{\"type\":\"scatter3d\",\"line\":{\"colorbar\":{\"outlinewidth\":0,\"ticks\":\"\"}},\"marker\":{\"colorbar\":{\"outlinewidth\":0,\"ticks\":\"\"}}}],\"scattermapbox\":[{\"type\":\"scattermapbox\",\"marker\":{\"colorbar\":{\"outlinewidth\":0,\"ticks\":\"\"}}}],\"scatterternary\":[{\"type\":\"scatterternary\",\"marker\":{\"colorbar\":{\"outlinewidth\":0,\"ticks\":\"\"}}}],\"scattercarpet\":[{\"type\":\"scattercarpet\",\"marker\":{\"colorbar\":{\"outlinewidth\":0,\"ticks\":\"\"}}}],\"carpet\":[{\"aaxis\":{\"endlinecolor\":\"#2a3f5f\",\"gridcolor\":\"white\",\"linecolor\":\"white\",\"minorgridcolor\":\"white\",\"startlinecolor\":\"#2a3f5f\"},\"baxis\":{\"endlinecolor\":\"#2a3f5f\",\"gridcolor\":\"white\",\"linecolor\":\"white\",\"minorgridcolor\":\"white\",\"startlinecolor\":\"#2a3f5f\"},\"type\":\"carpet\"}],\"table\":[{\"cells\":{\"fill\":{\"color\":\"#EBF0F8\"},\"line\":{\"color\":\"white\"}},\"header\":{\"fill\":{\"color\":\"#C8D4E3\"},\"line\":{\"color\":\"white\"}},\"type\":\"table\"}],\"barpolar\":[{\"marker\":{\"line\":{\"color\":\"#E5ECF6\",\"width\":0.5},\"pattern\":{\"fillmode\":\"overlay\",\"size\":10,\"solidity\":0.2}},\"type\":\"barpolar\"}],\"pie\":[{\"automargin\":true,\"type\":\"pie\"}]},\"layout\":{\"autotypenumbers\":\"strict\",\"colorway\":[\"#636efa\",\"#EF553B\",\"#00cc96\",\"#ab63fa\",\"#FFA15A\",\"#19d3f3\",\"#FF6692\",\"#B6E880\",\"#FF97FF\",\"#FECB52\"],\"font\":{\"color\":\"#2a3f5f\"},\"hovermode\":\"closest\",\"hoverlabel\":{\"align\":\"left\"},\"paper_bgcolor\":\"white\",\"plot_bgcolor\":\"#E5ECF6\",\"polar\":{\"bgcolor\":\"#E5ECF6\",\"angularaxis\":{\"gridcolor\":\"white\",\"linecolor\":\"white\",\"ticks\":\"\"},\"radialaxis\":{\"gridcolor\":\"white\",\"linecolor\":\"white\",\"ticks\":\"\"}},\"ternary\":{\"bgcolor\":\"#E5ECF6\",\"aaxis\":{\"gridcolor\":\"white\",\"linecolor\":\"white\",\"ticks\":\"\"},\"baxis\":{\"gridcolor\":\"white\",\"linecolor\":\"white\",\"ticks\":\"\"},\"caxis\":{\"gridcolor\":\"white\",\"linecolor\":\"white\",\"ticks\":\"\"}},\"coloraxis\":{\"colorbar\":{\"outlinewidth\":0,\"ticks\":\"\"}},\"colorscale\":{\"sequential\":[[0.0,\"#0d0887\"],[0.1111111111111111,\"#46039f\"],[0.2222222222222222,\"#7201a8\"],[0.3333333333333333,\"#9c179e\"],[0.4444444444444444,\"#bd3786\"],[0.5555555555555556,\"#d8576b\"],[0.6666666666666666,\"#ed7953\"],[0.7777777777777778,\"#fb9f3a\"],[0.8888888888888888,\"#fdca26\"],[1.0,\"#f0f921\"]],\"sequentialminus\":[[0.0,\"#0d0887\"],[0.1111111111111111,\"#46039f\"],[0.2222222222222222,\"#7201a8\"],[0.3333333333333333,\"#9c179e\"],[0.4444444444444444,\"#bd3786\"],[0.5555555555555556,\"#d8576b\"],[0.6666666666666666,\"#ed7953\"],[0.7777777777777778,\"#fb9f3a\"],[0.8888888888888888,\"#fdca26\"],[1.0,\"#f0f921\"]],\"diverging\":[[0,\"#8e0152\"],[0.1,\"#c51b7d\"],[0.2,\"#de77ae\"],[0.3,\"#f1b6da\"],[0.4,\"#fde0ef\"],[0.5,\"#f7f7f7\"],[0.6,\"#e6f5d0\"],[0.7,\"#b8e186\"],[0.8,\"#7fbc41\"],[0.9,\"#4d9221\"],[1,\"#276419\"]]},\"xaxis\":{\"gridcolor\":\"white\",\"linecolor\":\"white\",\"ticks\":\"\",\"title\":{\"standoff\":15},\"zerolinecolor\":\"white\",\"automargin\":true,\"zerolinewidth\":2},\"yaxis\":{\"gridcolor\":\"white\",\"linecolor\":\"white\",\"ticks\":\"\",\"title\":{\"standoff\":15},\"zerolinecolor\":\"white\",\"automargin\":true,\"zerolinewidth\":2},\"scene\":{\"xaxis\":{\"backgroundcolor\":\"#E5ECF6\",\"gridcolor\":\"white\",\"linecolor\":\"white\",\"showbackground\":true,\"ticks\":\"\",\"zerolinecolor\":\"white\",\"gridwidth\":2},\"yaxis\":{\"backgroundcolor\":\"#E5ECF6\",\"gridcolor\":\"white\",\"linecolor\":\"white\",\"showbackground\":true,\"ticks\":\"\",\"zerolinecolor\":\"white\",\"gridwidth\":2},\"zaxis\":{\"backgroundcolor\":\"#E5ECF6\",\"gridcolor\":\"white\",\"linecolor\":\"white\",\"showbackground\":true,\"ticks\":\"\",\"zerolinecolor\":\"white\",\"gridwidth\":2}},\"shapedefaults\":{\"line\":{\"color\":\"#2a3f5f\"}},\"annotationdefaults\":{\"arrowcolor\":\"#2a3f5f\",\"arrowhead\":0,\"arrowwidth\":1},\"geo\":{\"bgcolor\":\"white\",\"landcolor\":\"#E5ECF6\",\"subunitcolor\":\"white\",\"showland\":true,\"showlakes\":true,\"lakecolor\":\"white\"},\"title\":{\"x\":0.05},\"mapbox\":{\"style\":\"light\"}}},\"legend\":{\"title\":{\"text\":\"Athlete\"}},\"yaxis\":{\"title\":{\"text\":\"Time (s)\"},\"range\":[0,144.57]},\"updatemenus\":[{\"buttons\":[{\"args\":[{\"visible\":[true,true,true,true,true,true,true,true,false,false,false,false,false,false,false,false,false,false,false,false,false,false,false,false,false,false,false,false,false,false,false,false,false,false,false,false,false,false,false,false,false,false,false,false,false,false,false,false,false,false,false,false,false,false,false,false,false,false,false,false,false,false,false,false,false,false,false,false,false,false,false,false,false,false,false,false,false,false,false,false]},{\"title\":\"Split Times for men 200m backstroke\"}],\"label\":\"men 200m backstroke\",\"method\":\"update\"},{\"args\":[{\"visible\":[false,false,false,false,false,false,false,false,true,true,true,true,true,true,true,true,false,false,false,false,false,false,false,false,false,false,false,false,false,false,false,false,false,false,false,false,false,false,false,false,false,false,false,false,false,false,false,false,false,false,false,false,false,false,false,false,false,false,false,false,false,false,false,false,false,false,false,false,false,false,false,false,false,false,false,false,false,false,false,false]},{\"title\":\"Split Times for men 200m butterfly\"}],\"label\":\"men 200m butterfly\",\"method\":\"update\"},{\"args\":[{\"visible\":[false,false,false,false,false,false,false,false,false,false,false,false,false,false,false,false,true,true,true,true,true,true,true,true,false,false,false,false,false,false,false,false,false,false,false,false,false,false,false,false,false,false,false,false,false,false,false,false,false,false,false,false,false,false,false,false,false,false,false,false,false,false,false,false,false,false,false,false,false,false,false,false,false,false,false,false,false,false,false,false]},{\"title\":\"Split Times for men 200m breaststroke\"}],\"label\":\"men 200m breaststroke\",\"method\":\"update\"},{\"args\":[{\"visible\":[false,false,false,false,false,false,false,false,false,false,false,false,false,false,false,false,false,false,false,false,false,false,false,false,true,true,true,true,true,true,true,true,false,false,false,false,false,false,false,false,false,false,false,false,false,false,false,false,false,false,false,false,false,false,false,false,false,false,false,false,false,false,false,false,false,false,false,false,false,false,false,false,false,false,false,false,false,false,false,false]},{\"title\":\"Split Times for men 200m freestyle\"}],\"label\":\"men 200m freestyle\",\"method\":\"update\"},{\"args\":[{\"visible\":[false,false,false,false,false,false,false,false,false,false,false,false,false,false,false,false,false,false,false,false,false,false,false,false,false,false,false,false,false,false,false,false,true,true,true,true,true,true,true,true,false,false,false,false,false,false,false,false,false,false,false,false,false,false,false,false,false,false,false,false,false,false,false,false,false,false,false,false,false,false,false,false,false,false,false,false,false,false,false,false]},{\"title\":\"Split Times for men 200m individual medley\"}],\"label\":\"men 200m individual medley\",\"method\":\"update\"},{\"args\":[{\"visible\":[false,false,false,false,false,false,false,false,false,false,false,false,false,false,false,false,false,false,false,false,false,false,false,false,false,false,false,false,false,false,false,false,false,false,false,false,false,false,false,false,true,true,true,true,true,true,true,true,false,false,false,false,false,false,false,false,false,false,false,false,false,false,false,false,false,false,false,false,false,false,false,false,false,false,false,false,false,false,false,false]},{\"title\":\"Split Times for women 200m backstroke\"}],\"label\":\"women 200m backstroke\",\"method\":\"update\"},{\"args\":[{\"visible\":[false,false,false,false,false,false,false,false,false,false,false,false,false,false,false,false,false,false,false,false,false,false,false,false,false,false,false,false,false,false,false,false,false,false,false,false,false,false,false,false,false,false,false,false,false,false,false,false,true,true,true,true,true,true,true,true,false,false,false,false,false,false,false,false,false,false,false,false,false,false,false,false,false,false,false,false,false,false,false,false]},{\"title\":\"Split Times for women 200m butterfly\"}],\"label\":\"women 200m butterfly\",\"method\":\"update\"},{\"args\":[{\"visible\":[false,false,false,false,false,false,false,false,false,false,false,false,false,false,false,false,false,false,false,false,false,false,false,false,false,false,false,false,false,false,false,false,false,false,false,false,false,false,false,false,false,false,false,false,false,false,false,false,false,false,false,false,false,false,false,false,true,true,true,true,true,true,true,true,false,false,false,false,false,false,false,false,false,false,false,false,false,false,false,false]},{\"title\":\"Split Times for women 200m breaststroke\"}],\"label\":\"women 200m breaststroke\",\"method\":\"update\"},{\"args\":[{\"visible\":[false,false,false,false,false,false,false,false,false,false,false,false,false,false,false,false,false,false,false,false,false,false,false,false,false,false,false,false,false,false,false,false,false,false,false,false,false,false,false,false,false,false,false,false,false,false,false,false,false,false,false,false,false,false,false,false,false,false,false,false,false,false,false,false,true,true,true,true,true,true,true,true,false,false,false,false,false,false,false,false]},{\"title\":\"Split Times for women 200m freestyle\"}],\"label\":\"women 200m freestyle\",\"method\":\"update\"},{\"args\":[{\"visible\":[false,false,false,false,false,false,false,false,false,false,false,false,false,false,false,false,false,false,false,false,false,false,false,false,false,false,false,false,false,false,false,false,false,false,false,false,false,false,false,false,false,false,false,false,false,false,false,false,false,false,false,false,false,false,false,false,false,false,false,false,false,false,false,false,false,false,false,false,false,false,false,false,true,true,true,true,true,true,true,true]},{\"title\":\"Split Times for women 200m individual medley\"}],\"label\":\"women 200m individual medley\",\"method\":\"update\"}],\"direction\":\"down\",\"showactive\":true,\"x\":0.01,\"xanchor\":\"left\",\"y\":1.05,\"yanchor\":\"top\"}],\"title\":{\"text\":\"Split Times for men 200m backstroke\"},\"xaxis\":{\"title\":{\"text\":\"Distance (m)\"}},\"showlegend\":true},                        {\"responsive\": true}                    ).then(function(){\n",
       "                            \n",
       "var gd = document.getElementById('ac66f031-5c22-48ad-bad6-289a421a38a2');\n",
       "var x = new MutationObserver(function (mutations, observer) {{\n",
       "        var display = window.getComputedStyle(gd).display;\n",
       "        if (!display || display === 'none') {{\n",
       "            console.log([gd, 'removed!']);\n",
       "            Plotly.purge(gd);\n",
       "            observer.disconnect();\n",
       "        }}\n",
       "}});\n",
       "\n",
       "// Listen for the removal of the full notebook cells\n",
       "var notebookContainer = gd.closest('#notebook-container');\n",
       "if (notebookContainer) {{\n",
       "    x.observe(notebookContainer, {childList: true});\n",
       "}}\n",
       "\n",
       "// Listen for the clearing of the current output cell\n",
       "var outputEl = gd.closest('.output');\n",
       "if (outputEl) {{\n",
       "    x.observe(outputEl, {childList: true});\n",
       "}}\n",
       "\n",
       "                        })                };                });            </script>        </div>"
      ]
     },
     "metadata": {},
     "output_type": "display_data"
    }
   ],
   "source": [
    "twohm_data = final_data.loc[data['event'].str.contains('men 200m')]\n",
    "df = twohm_data\n",
    "event_names = df['event'].unique()\n",
    "df['split_0'] = 0\n",
    "fig = go.Figure()\n",
    "for event_name in event_names:\n",
    "    event_df = df[df['event'] == event_name]\n",
    "    for _, row in event_df.iterrows():\n",
    "        split_times = np.cumsum(row[['split_0', 'split_50', 'split_100', 'split_150', 'split_200']].values)\n",
    "        fig.add_trace(go.Scatter(x=[0, 50, 100, 150, 200], y=split_times,\n",
    "                                 mode='lines+markers', name=row['name']))\n",
    "buttons = []\n",
    "for event_name in event_names:\n",
    "    visible = [row['event'] == event_name for _, row in df.iterrows()]\n",
    "    buttons.append({\n",
    "        'args': [{'visible': visible}, {'title': f\"Split Times for {event_name}\"}],\n",
    "        'label': event_name,\n",
    "        'method': 'update'\n",
    "    })\n",
    "default_visible = [row['event'] == event_names[0] for _, row in df.iterrows()]\n",
    "fig.update_layout(\n",
    "    updatemenus=[\n",
    "        {\n",
    "            'buttons': buttons,\n",
    "            'direction': 'down',\n",
    "            'showactive': True,\n",
    "            'x': 0.01,\n",
    "            'xanchor': 'left',\n",
    "            'y': 1.05,\n",
    "            'yanchor': 'top'\n",
    "        }\n",
    "    ],\n",
    "    title=f\"Split Times for {event_names[0]}\",\n",
    "    xaxis_title=\"Distance (m)\",\n",
    "    yaxis_title=\"Time (s)\",\n",
    "    showlegend=True,\n",
    "    legend_title_text=\"Athlete\",\n",
    "    yaxis=dict(range=[0, max(df[['split_50', 'split_100', 'split_150', 'split_200']].sum(axis=1))])\n",
    ")\n",
    "\n",
    "for i, trace in enumerate(fig.data):\n",
    "    trace.visible = default_visible[i]\n",
    "fig.show()"
   ]
  },
  {
   "cell_type": "markdown",
   "id": "8b3fb495",
   "metadata": {},
   "source": [
    "Name: Michael Anakin T. Lirio\n",
    "\n",
    "Student Number: 2017130501\n",
    "\n",
    "Discussion: The graphs presented portrays representation of the Swimming Tokyo 2020 Olympics. The 1st graph is a pie chart showing the total medals won per each country. The 2nd graph is a bar graph with similar function of the 1st but it also shows the gold, silver, bronze, achieved by each country. These first two graphs shows the performance capacity of the countries participating in swimming. The 3rd graph shows a sample analysis on the 1500m freestyle performance of Kathleen Ledecky, current world record holder of the event. As the graph shows, many of the splits made are close to the average split time with only two possible outliers exceeding 1.5s difference from the average split which are the first and last split time made. Overall, it shows a good performance, being able to provide a good start and finish on her swim. The last graph is a set of line graphs graphs showing the finals result for the 200m events.\n",
    "\n",
    "For the interactivity, a dropdown was included on the 4th graph which allows different swim event results to be viewed in different button."
   ]
  }
 ],
 "metadata": {
  "kernelspec": {
   "display_name": "Python 3 (ipykernel)",
   "language": "python",
   "name": "python3"
  },
  "language_info": {
   "codemirror_mode": {
    "name": "ipython",
    "version": 3
   },
   "file_extension": ".py",
   "mimetype": "text/x-python",
   "name": "python",
   "nbconvert_exporter": "python",
   "pygments_lexer": "ipython3",
   "version": "3.10.9"
  }
 },
 "nbformat": 4,
 "nbformat_minor": 5
}
